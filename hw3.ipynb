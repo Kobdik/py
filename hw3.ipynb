{
 "cells": [
  {
   "cell_type": "code",
   "execution_count": 38,
   "id": "0aa6aefd",
   "metadata": {},
   "outputs": [],
   "source": [
    "import time\n",
    "import torch\n",
    "from torch import nn\n",
    "import torchvision as tv\n",
    "from torchsummary import summary\n",
    "import matplotlib.pyplot as plt"
   ]
  },
  {
   "cell_type": "code",
   "execution_count": 39,
   "id": "d4c1afa4",
   "metadata": {},
   "outputs": [],
   "source": [
    "BATCH_SIZE = 256"
   ]
  },
  {
   "cell_type": "code",
   "execution_count": 130,
   "id": "f9995b44",
   "metadata": {},
   "outputs": [],
   "source": [
    "transforms = tv.transforms.Compose([\n",
    "    tv.transforms.Resize(66),\n",
    "    tv.transforms.ToTensor()\n",
    "])"
   ]
  },
  {
   "cell_type": "code",
   "execution_count": 131,
   "id": "71f454da",
   "metadata": {},
   "outputs": [],
   "source": [
    "train_dataset = tv.datasets.FashionMNIST('.', train=True, transform=transforms, download=True)\n",
    "test_dataset = tv.datasets.FashionMNIST('.', train=False, transform=transforms, download=True)\n",
    "train_dl = torch.utils.data.DataLoader(train_dataset, batch_size=BATCH_SIZE, shuffle=False)\n",
    "test_dl = torch.utils.data.DataLoader(test_dataset, batch_size=BATCH_SIZE)"
   ]
  },
  {
   "cell_type": "code",
   "execution_count": 132,
   "id": "45370d4c",
   "metadata": {},
   "outputs": [
    {
     "name": "stdout",
     "output_type": "stream",
     "text": [
      "torch.Size([1, 66, 66]) 9\n"
     ]
    }
   ],
   "source": [
    "print(train_dataset[0][0].shape, train_dataset[0][1])\n",
    "# print(train_dataset[0][0].numpy().reshape(32,32)[15, 10:20])"
   ]
  },
  {
   "cell_type": "code",
   "execution_count": 133,
   "id": "037eb016",
   "metadata": {},
   "outputs": [
    {
     "data": {
      "text/plain": [
       "<matplotlib.image.AxesImage at 0x19c63cbbad0>"
      ]
     },
     "execution_count": 133,
     "metadata": {},
     "output_type": "execute_result"
    },
    {
     "data": {
      "image/png": "[encoded data removed]",
      "text/plain": [
       "<Figure size 640x480 with 1 Axes>"
      ]
     },
     "metadata": {},
     "output_type": "display_data"
    }
   ],
   "source": [
    "plt.imshow(train_dataset[0][0].numpy().reshape(66,66), cmap='gray')"
   ]
  },
  {
   "cell_type": "code",
   "execution_count": 147,
   "id": "2c4b461d",
   "metadata": {},
   "outputs": [],
   "source": [
    "model = nn.Sequential(\n",
    "    # inp 66 out 66-7+1=60\n",
    "    nn.Conv2d(1, 6, kernel_size=7, padding=0),\n",
    "    nn.Tanh(),\n",
    "    nn.AvgPool2d(kernel_size=2, stride=2),\n",
    "    # inp 30 out 30-7+1=24\n",
    "    nn.Conv2d(6, 18, kernel_size=7, padding=0),\n",
    "    nn.Tanh(),\n",
    "    nn.AvgPool2d(kernel_size=2, stride=2),\n",
    "    # inp 12 out 12-7+1=6\n",
    "    nn.Conv2d(18, 90, kernel_size=7, padding=0),\n",
    "    nn.Tanh(), # [1, 90, 6, 6]\n",
    "    nn.AvgPool2d(kernel_size=2, stride=2),\n",
    "    # inp 3 out 1\n",
    "    nn.Conv2d(90, 120, kernel_size=3), \n",
    "    nn.Flatten(),\n",
    "    nn.Linear(120,84),\n",
    "    nn.Tanh(),\n",
    "    # nn.Dropout(0.5),\n",
    "    nn.Linear(84,10)\n",
    ")"
   ]
  },
  {
   "cell_type": "code",
   "execution_count": 148,
   "id": "784c59a9",
   "metadata": {},
   "outputs": [
    {
     "name": "stdout",
     "output_type": "stream",
     "text": [
      "torch.Size([1, 1, 66, 66])\n",
      "Layer Conv2d(1, 6, kernel_size=(7, 7), stride=(1, 1)). X shape: torch.Size([1, 6, 60, 60])\n",
      "Layer Tanh(). X shape: torch.Size([1, 6, 60, 60])\n",
      "Layer AvgPool2d(kernel_size=2, stride=2, padding=0). X shape: torch.Size([1, 6, 30, 30])\n",
      "Layer Conv2d(6, 18, kernel_size=(7, 7), stride=(1, 1)). X shape: torch.Size([1, 18, 24, 24])\n",
      "Layer Tanh(). X shape: torch.Size([1, 18, 24, 24])\n",
      "Layer AvgPool2d(kernel_size=2, stride=2, padding=0). X shape: torch.Size([1, 18, 12, 12])\n",
      "Layer Conv2d(18, 90, kernel_size=(7, 7), stride=(1, 1)). X shape: torch.Size([1, 90, 6, 6])\n",
      "Layer Tanh(). X shape: torch.Size([1, 90, 6, 6])\n",
      "Layer AvgPool2d(kernel_size=2, stride=2, padding=0). X shape: torch.Size([1, 90, 3, 3])\n",
      "Layer Conv2d(90, 120, kernel_size=(3, 3), stride=(1, 1)). X shape: torch.Size([1, 120, 1, 1])\n",
      "Layer Flatten(start_dim=1, end_dim=-1). X shape: torch.Size([1, 120])\n",
      "Layer Linear(in_features=120, out_features=84, bias=True). X shape: torch.Size([1, 84])\n",
      "Layer Tanh(). X shape: torch.Size([1, 84])\n",
      "Layer Linear(in_features=84, out_features=10, bias=True). X shape: torch.Size([1, 10])\n"
     ]
    }
   ],
   "source": [
    "# try first image from dataset\n",
    "X = train_dataset[0][0].reshape(1,1,66,66)\n",
    "print(X.shape)\n",
    "for l in model:\n",
    "    X = l(X)\n",
    "    print(\"Layer {}. X shape: {}\".format(l, X.shape))\n"
   ]
  },
  {
   "cell_type": "code",
   "execution_count": 149,
   "id": "120e97fc",
   "metadata": {},
   "outputs": [
    {
     "name": "stdout",
     "output_type": "stream",
     "text": [
      "----------------------------------------------------------------\n",
      "        Layer (type)               Output Shape         Param #\n",
      "================================================================\n",
      "            Conv2d-1            [-1, 6, 60, 60]             300\n",
      "              Tanh-2            [-1, 6, 60, 60]               0\n",
      "         AvgPool2d-3            [-1, 6, 30, 30]               0\n",
      "            Conv2d-4           [-1, 18, 24, 24]           5,310\n",
      "              Tanh-5           [-1, 18, 24, 24]               0\n",
      "         AvgPool2d-6           [-1, 18, 12, 12]               0\n",
      "            Conv2d-7             [-1, 90, 6, 6]          79,470\n",
      "              Tanh-8             [-1, 90, 6, 6]               0\n",
      "         AvgPool2d-9             [-1, 90, 3, 3]               0\n",
      "           Conv2d-10            [-1, 120, 1, 1]          97,320\n",
      "          Flatten-11                  [-1, 120]               0\n",
      "           Linear-12                   [-1, 84]          10,164\n",
      "             Tanh-13                   [-1, 84]               0\n",
      "           Linear-14                   [-1, 10]             850\n",
      "================================================================\n",
      "Total params: 193,414\n",
      "Trainable params: 193,414\n",
      "Non-trainable params: 0\n",
      "----------------------------------------------------------------\n",
      "Input size (MB): 0.02\n",
      "Forward/backward pass size (MB): 0.61\n",
      "Params size (MB): 0.74\n",
      "Estimated Total Size (MB): 1.36\n",
      "----------------------------------------------------------------\n"
     ]
    }
   ],
   "source": [
    "summary(model, input_size=(1, 66, 66))"
   ]
  },
  {
   "cell_type": "code",
   "execution_count": 150,
   "id": "420123d1",
   "metadata": {},
   "outputs": [
    {
     "data": {
      "text/plain": [
       "torch.Size([1, 10])"
      ]
     },
     "execution_count": 150,
     "metadata": {},
     "output_type": "execute_result"
    }
   ],
   "source": [
    "X = train_dataset[0][0].reshape(1,1,66,66)\n",
    "y = model(X)\n",
    "y.shape"
   ]
  },
  {
   "cell_type": "code",
   "execution_count": 77,
   "id": "fda847ca",
   "metadata": {},
   "outputs": [],
   "source": [
    "def eval_accuracy(data_iter, net):\n",
    "    acc_sum, n = 0, 0\n",
    "    net.eval()\n",
    "    for X, y in data_iter:\n",
    "        # X, y = X.to(device), y.to(device)\n",
    "        acc_sum += (net(X).argmax(axis=1) == y).sum()\n",
    "        n += y.shape[0]\n",
    "        # if n % 200 == 0:\n",
    "        #     print('y.shape[0]={}, n={}'.format(y.shape[0], n))\n",
    "    return acc_sum.item() / n"
   ]
  },
  {
   "cell_type": "code",
   "execution_count": 84,
   "id": "c2df9ed4",
   "metadata": {},
   "outputs": [],
   "source": [
    "def train(net, train_iter, test_iter, trainer, num_epochs):\n",
    "    # net.to(device)\n",
    "    # loss = nn.CrossEntropyLoss(reduction='sum')\n",
    "    loss = nn.CrossEntropyLoss(reduction='mean')\n",
    "    net.train()\n",
    "    for epoch in range(num_epochs):\n",
    "        train_l_sum, train_acc_sum, n =  0.0, 0.0, 0 \n",
    "        start =time.time()\n",
    "        \n",
    "        for i, (X, y) in enumerate(train_iter):\n",
    "            # X, y = X.to(device), y.to(device)\n",
    "            trainer.zero_grad()\n",
    "            y_hat = net(X)\n",
    "            l = loss(y_hat, y)\n",
    "            l.backward()\n",
    "            trainer.step()\n",
    "            train_l_sum += l.item()\n",
    "            train_acc_sum += (y_hat.argmax(axis=1) == y).sum().item()\n",
    "            n += y.shape[0]\n",
    "\n",
    "            # if i % 100 == 0:\n",
    "            #   print(f\"Step {i}. time since epoch: {time.time() -  start:.3f}. \" \n",
    "            #         f\"Train acc: {train_acc_sum / n:.3f}. Train Loss: {train_l_sum / n:.3f}\")\n",
    "\n",
    "        # test_acc = eval_accuracy(test_iter, net.to(device))\n",
    "        test_acc = eval_accuracy(test_iter, net)\n",
    "        print('-' * 20)\n",
    "        print(f'epoch {epoch + 1}, loss {train_l_sum / n:.4f}, train acc {train_acc_sum / n:.3f}'\n",
    "              f', test acc {test_acc:.3f}, time {time.time() - start:.1f} sec')"
   ]
  },
  {
   "cell_type": "code",
   "execution_count": 151,
   "id": "c1ef2e5f",
   "metadata": {},
   "outputs": [
    {
     "name": "stdout",
     "output_type": "stream",
     "text": [
      "--------------------\n",
      "epoch 1, loss 0.0042, train acc 0.599, test acc 0.723, time 39.7 sec\n",
      "--------------------\n",
      "epoch 2, loss 0.0024, train acc 0.765, test acc 0.782, time 45.4 sec\n",
      "--------------------\n",
      "epoch 3, loss 0.0020, train acc 0.806, test acc 0.808, time 40.6 sec\n",
      "--------------------\n",
      "epoch 4, loss 0.0018, train acc 0.832, test acc 0.824, time 42.0 sec\n",
      "--------------------\n",
      "epoch 5, loss 0.0017, train acc 0.846, test acc 0.832, time 42.4 sec\n",
      "--------------------\n",
      "epoch 6, loss 0.0015, train acc 0.856, test acc 0.839, time 42.2 sec\n",
      "--------------------\n",
      "epoch 7, loss 0.0015, train acc 0.864, test acc 0.847, time 42.8 sec\n",
      "--------------------\n",
      "epoch 8, loss 0.0014, train acc 0.869, test acc 0.854, time 40.3 sec\n",
      "--------------------\n",
      "epoch 9, loss 0.0013, train acc 0.874, test acc 0.860, time 41.3 sec\n",
      "--------------------\n",
      "epoch 10, loss 0.0013, train acc 0.879, test acc 0.866, time 42.5 sec\n",
      "--------------------\n",
      "epoch 11, loss 0.0012, train acc 0.883, test acc 0.871, time 42.9 sec\n",
      "--------------------\n",
      "epoch 12, loss 0.0012, train acc 0.887, test acc 0.874, time 42.3 sec\n",
      "--------------------\n",
      "epoch 13, loss 0.0012, train acc 0.891, test acc 0.877, time 42.1 sec\n",
      "--------------------\n",
      "epoch 14, loss 0.0011, train acc 0.895, test acc 0.879, time 43.3 sec\n",
      "--------------------\n",
      "epoch 15, loss 0.0011, train acc 0.897, test acc 0.880, time 42.6 sec\n",
      "--------------------\n",
      "epoch 16, loss 0.0011, train acc 0.900, test acc 0.882, time 42.7 sec\n",
      "--------------------\n",
      "epoch 17, loss 0.0010, train acc 0.903, test acc 0.885, time 42.7 sec\n",
      "--------------------\n",
      "epoch 18, loss 0.0010, train acc 0.905, test acc 0.886, time 44.4 sec\n",
      "--------------------\n",
      "epoch 19, loss 0.0010, train acc 0.908, test acc 0.888, time 46.2 sec\n",
      "--------------------\n",
      "epoch 20, loss 0.0010, train acc 0.910, test acc 0.889, time 44.4 sec\n",
      "--------------------\n",
      "epoch 21, loss 0.0009, train acc 0.913, test acc 0.890, time 43.6 sec\n",
      "--------------------\n",
      "epoch 22, loss 0.0009, train acc 0.915, test acc 0.891, time 42.0 sec\n",
      "--------------------\n",
      "epoch 23, loss 0.0009, train acc 0.917, test acc 0.892, time 42.5 sec\n",
      "--------------------\n",
      "epoch 24, loss 0.0009, train acc 0.918, test acc 0.894, time 42.5 sec\n",
      "--------------------\n",
      "epoch 25, loss 0.0009, train acc 0.920, test acc 0.894, time 42.4 sec\n",
      "--------------------\n",
      "epoch 26, loss 0.0008, train acc 0.922, test acc 0.895, time 42.5 sec\n",
      "--------------------\n",
      "epoch 27, loss 0.0008, train acc 0.924, test acc 0.895, time 42.3 sec\n",
      "--------------------\n",
      "epoch 28, loss 0.0008, train acc 0.926, test acc 0.896, time 41.9 sec\n",
      "--------------------\n",
      "epoch 29, loss 0.0008, train acc 0.928, test acc 0.896, time 42.0 sec\n",
      "--------------------\n",
      "epoch 30, loss 0.0008, train acc 0.929, test acc 0.897, time 42.3 sec\n"
     ]
    }
   ],
   "source": [
    "# trainer = torch.optim.Adam(net.parameters(), lr=0.1)\n",
    "trainer = torch.optim.SGD(model.parameters(), lr=0.1)\n",
    "train(model, train_dl, test_dl, trainer, num_epochs=30)"
   ]
  },
  {
   "cell_type": "code",
   "execution_count": null,
   "id": "2028f2ba",
   "metadata": {},
   "outputs": [],
   "source": []
  }
 ],
 "metadata": {
  "kernelspec": {
   "display_name": "Python 3",
   "language": "python",
   "name": "python3"
  },
  "language_info": {
   "codemirror_mode": {
    "name": "ipython",
    "version": 3
   },
   "file_extension": ".py",
   "mimetype": "text/x-python",
   "name": "python",
   "nbconvert_exporter": "python",
   "pygments_lexer": "ipython3",
   "version": "3.11.7"
  }
 },
 "nbformat": 4,
 "nbformat_minor": 5
}
