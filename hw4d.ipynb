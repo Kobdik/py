{
 "cells": [
  {
   "cell_type": "code",
   "execution_count": 1,
   "id": "1a4a42eb-0ede-49ac-9838-4a32fe63989b",
   "metadata": {},
   "outputs": [],
   "source": [
    "import numpy as np\n",
    "import matplotlib.pyplot as plt\n",
    "import time\n",
    "import torch\n",
    "from torch import nn\n",
    "import torchvision as tv\n",
    "from torchvision.datasets import EMNIST\n",
    "from torchsummary import summary\n",
    "import torchinfo as tinfo"
   ]
  },
  {
   "cell_type": "code",
   "execution_count": 2,
   "id": "4d718a31-f6dc-444a-b198-5e0967b13eb1",
   "metadata": {},
   "outputs": [],
   "source": [
    "tf224 = tv.transforms.Compose([\n",
    "    tv.transforms.Grayscale(3),\n",
    "    tv.transforms.Resize((224, 224)),\n",
    "    tv.transforms.ToTensor()\n",
    "])"
   ]
  },
  {
   "cell_type": "code",
   "execution_count": 3,
   "id": "a72d2c4b-8243-4771-afc4-aa819c2bc451",
   "metadata": {},
   "outputs": [],
   "source": [
    "tf229 = tv.transforms.Compose([\n",
    "    tv.transforms.Grayscale(3),\n",
    "    tv.transforms.Resize((299, 229)),\n",
    "    tv.transforms.ToTensor()\n",
    "])"
   ]
  },
  {
   "cell_type": "code",
   "execution_count": 4,
   "id": "142a139b-7ef8-4616-b43c-e784338550df",
   "metadata": {},
   "outputs": [],
   "source": [
    "byclass_train_data = EMNIST(\n",
    "    root='.',\n",
    "    split='byclass',\n",
    "    train=True,\n",
    "    transform=tf224,\n",
    "    target_transform=None,\n",
    "    download=False\n",
    ")"
   ]
  },
  {
   "cell_type": "code",
   "execution_count": 5,
   "id": "63932a48-b33a-4e18-9515-ed29f5df9379",
   "metadata": {},
   "outputs": [],
   "source": [
    "byclass_test_data = EMNIST(\n",
    "    root='.',\n",
    "    split='byclass',\n",
    "    train=False,\n",
    "    transform=tf224,\n",
    "    target_transform=None,\n",
    "    download=False\n",
    ")"
   ]
  },
  {
   "cell_type": "code",
   "execution_count": 6,
   "id": "9443e882-5551-4b35-9b8a-be5c7e4dbfd5",
   "metadata": {},
   "outputs": [
    {
     "data": {
      "text/plain": [
       "(697932, 116323)"
      ]
     },
     "execution_count": 6,
     "metadata": {},
     "output_type": "execute_result"
    }
   ],
   "source": [
    "# total train and test samples count\n",
    "len(byclass_train_data), len(byclass_test_data)"
   ]
  },
  {
   "cell_type": "code",
   "execution_count": 7,
   "id": "1756474f-fbd1-499c-a8cf-64ab1ca2ee15",
   "metadata": {
    "scrolled": true
   },
   "outputs": [
    {
     "data": {
      "text/plain": [
       "(62, ['u', 'v', 'w', 'x', 'y', 'z'])"
      ]
     },
     "execution_count": 7,
     "metadata": {},
     "output_type": "execute_result"
    }
   ],
   "source": [
    "# classes count and last 6 classes\n",
    "len(byclass_train_data.classes), byclass_train_data.classes[56:]"
   ]
  },
  {
   "cell_type": "code",
   "execution_count": 8,
   "id": "1e167ed3-4399-40f5-b342-99fa2a6644e3",
   "metadata": {},
   "outputs": [
    {
     "data": {
      "text/plain": [
       "torch.Size([697932, 28, 28])"
      ]
     },
     "execution_count": 8,
     "metadata": {},
     "output_type": "execute_result"
    }
   ],
   "source": [
    "byclass_train_data.data.shape"
   ]
  },
  {
   "cell_type": "code",
   "execution_count": 9,
   "id": "028e8a7a-1541-4803-96b7-4711c26089e5",
   "metadata": {},
   "outputs": [
    {
     "data": {
      "text/plain": [
       "torch.Size([3, 224, 224])"
      ]
     },
     "execution_count": 9,
     "metadata": {},
     "output_type": "execute_result"
    }
   ],
   "source": [
    "byclass_train_data[0][0].shape"
   ]
  },
  {
   "cell_type": "code",
   "execution_count": 10,
   "id": "c415b764-63c7-4bf6-b87a-bf36770bf05d",
   "metadata": {},
   "outputs": [
    {
     "name": "stdout",
     "output_type": "stream",
     "text": [
      "train counts: 62\n",
      "count of 0: 34585\n",
      "count of 1: 38374\n",
      "count of 61: 2725\n"
     ]
    }
   ],
   "source": [
    "trn_labels = byclass_train_data.targets\n",
    "trn_counts = np.bincount(trn_labels)\n",
    "trn_weights = 1. / trn_counts\n",
    "print('train counts:', len(trn_counts))\n",
    "print('count of 0:', trn_counts[0])\n",
    "print('count of 1:', trn_counts[1])\n",
    "print('count of 61:', trn_counts[61])"
   ]
  },
  {
   "cell_type": "code",
   "execution_count": 11,
   "id": "8833c1a5-4b9c-4ab9-8fd8-990bda6dcbb8",
   "metadata": {},
   "outputs": [
    {
     "data": {
      "image/png": "[encoded data removed]",
      "text/plain": [
       "<Figure size 640x480 with 1 Axes>"
      ]
     },
     "metadata": {},
     "output_type": "display_data"
    },
    {
     "data": {
      "text/plain": [
       "62"
      ]
     },
     "execution_count": 11,
     "metadata": {},
     "output_type": "execute_result"
    }
   ],
   "source": [
    "# частотность появления цифр в наборе в среднем сильно превышает частотность символов\n",
    "n_trn_bins = len(byclass_train_data.classes)\n",
    "plt.hist(trn_labels, bins=n_trn_bins)\n",
    "plt.show()\n",
    "n_trn_bins"
   ]
  },
  {
   "cell_type": "code",
   "execution_count": 12,
   "id": "6a97e18f-eff4-4c69-99cc-c523c56bd2ac",
   "metadata": {},
   "outputs": [
    {
     "data": {
      "text/plain": [
       "116323"
      ]
     },
     "execution_count": 12,
     "metadata": {},
     "output_type": "execute_result"
    }
   ],
   "source": [
    "tst_labels = byclass_test_data.targets\n",
    "len(tst_labels)"
   ]
  },
  {
   "cell_type": "code",
   "execution_count": 13,
   "id": "3073b449-9b44-4e58-a9e7-7b487f94e422",
   "metadata": {},
   "outputs": [
    {
     "name": "stdout",
     "output_type": "stream",
     "text": [
      "test counts: 62\n",
      "count of 0: 5778\n",
      "count of 1: 6330\n",
      "count of 61: 451\n"
     ]
    }
   ],
   "source": [
    "tst_counts = np.bincount(tst_labels)\n",
    "tst_weights = 1. / tst_counts\n",
    "print('test counts:', len(tst_counts))\n",
    "print('count of 0:', tst_counts[0])\n",
    "print('count of 1:', tst_counts[1])\n",
    "print('count of 61:', tst_counts[61])"
   ]
  },
  {
   "cell_type": "code",
   "execution_count": 14,
   "id": "831b4e7d-8192-49c6-b532-fc228f5e715d",
   "metadata": {},
   "outputs": [
    {
     "data": {
      "image/png": "[encoded data removed]",
      "text/plain": [
       "<Figure size 640x480 with 1 Axes>"
      ]
     },
     "metadata": {},
     "output_type": "display_data"
    },
    {
     "data": {
      "text/plain": [
       "62"
      ]
     },
     "execution_count": 14,
     "metadata": {},
     "output_type": "execute_result"
    }
   ],
   "source": [
    "# частотность появления цифр в тесте также неоднородна\n",
    "n_tst_bins = len(byclass_test_data.classes)\n",
    "plt.hist(tst_labels, bins=n_tst_bins)\n",
    "plt.show()\n",
    "n_tst_bins"
   ]
  },
  {
   "cell_type": "code",
   "execution_count": 15,
   "id": "da5c49a8-c7db-4753-96a8-c759c78a6b47",
   "metadata": {},
   "outputs": [],
   "source": [
    "from torch.utils.data import DataLoader, WeightedRandomSampler"
   ]
  },
  {
   "cell_type": "code",
   "execution_count": 16,
   "id": "d76d6de5-e49b-4cff-b992-31424bc22a93",
   "metadata": {},
   "outputs": [
    {
     "data": {
      "text/plain": [
       "'cuda'"
      ]
     },
     "execution_count": 16,
     "metadata": {},
     "output_type": "execute_result"
    }
   ],
   "source": [
    "device = 'cuda' if torch.cuda.is_available() else 'cpu'\n",
    "device"
   ]
  },
  {
   "cell_type": "code",
   "execution_count": 17,
   "id": "90461103-9461-4afa-8476-59c2298e0459",
   "metadata": {},
   "outputs": [],
   "source": [
    "# Балансировка классов с помощью WeightedRandomSampler\n",
    "trn_sample_weights = np.array([trn_weights[t] for t in trn_labels])\n",
    "trn_sampler = WeightedRandomSampler(weights=trn_sample_weights, num_samples=len(trn_sample_weights))\n",
    "tst_sample_weights = np.array([tst_weights[t] for t in tst_labels])\n",
    "tst_sampler = WeightedRandomSampler(weights=tst_sample_weights, num_samples=len(tst_sample_weights))"
   ]
  },
  {
   "cell_type": "code",
   "execution_count": 18,
   "id": "51d37fce-9e5d-4808-93c3-05bb5b125e2d",
   "metadata": {},
   "outputs": [],
   "source": [
    "# train and test datasets\n",
    "BATCH_SIZE=62*4\n",
    "dl_train = DataLoader(byclass_train_data, pin_memory=True, sampler=trn_sampler, batch_size=BATCH_SIZE)\n",
    "dl_test = DataLoader(byclass_test_data, pin_memory=True, sampler=tst_sampler, batch_size=BATCH_SIZE)"
   ]
  },
  {
   "cell_type": "code",
   "execution_count": 24,
   "id": "78811fb8-5b8e-436d-aa70-78bb25588c0a",
   "metadata": {},
   "outputs": [
    {
     "name": "stdout",
     "output_type": "stream",
     "text": [
      "39.89\n"
     ]
    }
   ],
   "source": [
    "# проверим частотность появления цифр (y < 10),\n",
    "# среди случайных 4*62 значений ожидаем 4*10 = 40 цифр\n",
    "# прервем после 200 батчей, t / 200 -> 40\n",
    "t, n = 0, 0\n",
    "for i, (X, y) in enumerate(dl_train):\n",
    "    # count digits\n",
    "    s = (y < 10).sum().item()\n",
    "    t += s\n",
    "    n += 1\n",
    "    # stop after 100 steps \n",
    "    if i >= 200: break\n",
    "print(t / 200)"
   ]
  },
  {
   "cell_type": "code",
   "execution_count": 25,
   "id": "28b0d338-3114-4399-a3c1-f0fac04682cc",
   "metadata": {},
   "outputs": [],
   "source": [
    "# 10 эпох по 20 батчей, размером 248, дадут 49 600 примеров для валидации, \n",
    "# этого будет достаточно для сравнения моделей\n",
    "def evaluate_accuracy(dl_test, net, loss, iter_cnt=20):\n",
    "    n, acc_sum, l_sum = 0, 0, .0\n",
    "    test_iter = iter(dl_test)\n",
    "    net.eval()\n",
    "    for i in range(iter_cnt):\n",
    "        X, y = next(test_iter) \n",
    "        X, y = X.to(device), y.to(device)\n",
    "        y_hat = net(X)\n",
    "        l_sum += loss(y_hat, y).item()\n",
    "        acc_sum += (y_hat.argmax(axis=1) == y).sum().item()\n",
    "        n += y.shape[0]\n",
    "    \n",
    "    return acc_sum / n, l_sum / n, n"
   ]
  },
  {
   "cell_type": "code",
   "execution_count": 26,
   "id": "545f00c3-f476-49fa-a344-8cd93fa40307",
   "metadata": {},
   "outputs": [],
   "source": [
    "# 10 эпох по 60 батчей, размером 62*4=248, дадут 148 800 примеров для обучения\n",
    "def train(net, dl_train, dl_test, trainer, num_epochs, iter_cnt=60):\n",
    "    train_iter = iter(dl_train)    \n",
    "    net.to(device)\n",
    "    loss = nn.CrossEntropyLoss(reduction='sum')\n",
    "    net.train()\n",
    "    train_loss_list, test_loss_list = [], []\n",
    "    for epoch in range(num_epochs):\n",
    "        train_l_sum, train_acc_sum, n, start = 0.0, 0.0, 0, time.time()\n",
    "        # each epoch samples_count = batch_size * iter_cnt\n",
    "        for i in range(iter_cnt):\n",
    "            X, y = next(train_iter)\n",
    "            X, y = X.to(device), y.to(device)\n",
    "            trainer.zero_grad()\n",
    "            y_hat = net(X)\n",
    "            l = loss(y_hat, y)\n",
    "            l.backward()\n",
    "            trainer.step()\n",
    "            train_l_sum += l.item()\n",
    "            train_acc_sum += (y_hat.argmax(axis=1) == y).sum().item()\n",
    "            n += y.shape[0]\n",
    "\n",
    "        train_acc = train_acc_sum / n\n",
    "        train_loss = train_l_sum / n\n",
    "        train_loss_list.append(train_loss)\n",
    "        \n",
    "        test_acc, test_loss, test_cnt = evaluate_accuracy(dl_test, net.to(device), loss)\n",
    "        test_loss_list.append(test_loss)\n",
    "\n",
    "        print('-' * 20)\n",
    "        print(f'epoch {epoch + 1}, test_n {test_cnt}, loss {train_loss:.4f}, train acc {train_acc:.3f}'\n",
    "              f', test acc {test_acc:.3f}, test loss {test_loss:.3f}, time {time.time() - start:.1f} sec')\n",
    "\n",
    "    return train_loss_list, test_loss_list"
   ]
  },
  {
   "cell_type": "code",
   "execution_count": 27,
   "id": "1be7cd14-98f6-455d-bfdb-5ea9ea23c407",
   "metadata": {},
   "outputs": [],
   "source": [
    "# первая модель для обучения\n",
    "model = tv.models.resnet18(weights=None)"
   ]
  },
  {
   "cell_type": "code",
   "execution_count": 28,
   "id": "4314b685-1df1-4268-82ab-46fe4219a54e",
   "metadata": {},
   "outputs": [],
   "source": [
    "# Убираем требование градиента:\n",
    "for param in model.parameters():\n",
    "    param.requires_grad = False"
   ]
  },
  {
   "cell_type": "code",
   "execution_count": 29,
   "id": "7aca3f7c-bad5-4a3d-b589-9b3e3c39c199",
   "metadata": {},
   "outputs": [
    {
     "data": {
      "text/plain": [
       "Linear(in_features=512, out_features=1000, bias=True)"
      ]
     },
     "execution_count": 29,
     "metadata": {},
     "output_type": "execute_result"
    }
   ],
   "source": [
    "# (fc): Linear(in_features=512, out_features=1000, bias=True)\n",
    "model.fc"
   ]
  },
  {
   "cell_type": "code",
   "execution_count": 30,
   "id": "d0f451c2-27a5-4592-aad6-01b68125fecc",
   "metadata": {},
   "outputs": [],
   "source": [
    "# меняем последний слой классификации\n",
    "model.fc = nn.Linear(in_features=512, out_features=62)"
   ]
  },
  {
   "cell_type": "code",
   "execution_count": 31,
   "id": "cb7b7f69-58be-4955-867c-35eb41863c82",
   "metadata": {},
   "outputs": [
    {
     "name": "stdout",
     "output_type": "stream",
     "text": [
      "Params to learn:\n",
      "\t fc.weight\n",
      "\t fc.bias\n"
     ]
    }
   ],
   "source": [
    "print(\"Params to learn:\")\n",
    "params_to_update = []\n",
    "for name, param in model.named_parameters():\n",
    "    if param.requires_grad == True:\n",
    "        params_to_update.append(param)\n",
    "        print(\"\\t\",name)"
   ]
  },
  {
   "cell_type": "code",
   "execution_count": 32,
   "id": "34d96b5d-0643-44fe-9ec6-eb4b0fb681db",
   "metadata": {},
   "outputs": [
    {
     "name": "stdout",
     "output_type": "stream",
     "text": [
      "----------------------------------------------------------------\n",
      "        Layer (type)               Output Shape         Param #\n",
      "================================================================\n",
      "            Conv2d-1         [-1, 64, 112, 112]           9,408\n",
      "       BatchNorm2d-2         [-1, 64, 112, 112]             128\n",
      "              ReLU-3         [-1, 64, 112, 112]               0\n",
      "         MaxPool2d-4           [-1, 64, 56, 56]               0\n",
      "            Conv2d-5           [-1, 64, 56, 56]          36,864\n",
      "       BatchNorm2d-6           [-1, 64, 56, 56]             128\n",
      "              ReLU-7           [-1, 64, 56, 56]               0\n",
      "            Conv2d-8           [-1, 64, 56, 56]          36,864\n",
      "       BatchNorm2d-9           [-1, 64, 56, 56]             128\n",
      "             ReLU-10           [-1, 64, 56, 56]               0\n",
      "       BasicBlock-11           [-1, 64, 56, 56]               0\n",
      "           Conv2d-12           [-1, 64, 56, 56]          36,864\n",
      "      BatchNorm2d-13           [-1, 64, 56, 56]             128\n",
      "             ReLU-14           [-1, 64, 56, 56]               0\n",
      "           Conv2d-15           [-1, 64, 56, 56]          36,864\n",
      "      BatchNorm2d-16           [-1, 64, 56, 56]             128\n",
      "             ReLU-17           [-1, 64, 56, 56]               0\n",
      "       BasicBlock-18           [-1, 64, 56, 56]               0\n",
      "           Conv2d-19          [-1, 128, 28, 28]          73,728\n",
      "      BatchNorm2d-20          [-1, 128, 28, 28]             256\n",
      "             ReLU-21          [-1, 128, 28, 28]               0\n",
      "           Conv2d-22          [-1, 128, 28, 28]         147,456\n",
      "      BatchNorm2d-23          [-1, 128, 28, 28]             256\n",
      "           Conv2d-24          [-1, 128, 28, 28]           8,192\n",
      "      BatchNorm2d-25          [-1, 128, 28, 28]             256\n",
      "             ReLU-26          [-1, 128, 28, 28]               0\n",
      "       BasicBlock-27          [-1, 128, 28, 28]               0\n",
      "           Conv2d-28          [-1, 128, 28, 28]         147,456\n",
      "      BatchNorm2d-29          [-1, 128, 28, 28]             256\n",
      "             ReLU-30          [-1, 128, 28, 28]               0\n",
      "           Conv2d-31          [-1, 128, 28, 28]         147,456\n",
      "      BatchNorm2d-32          [-1, 128, 28, 28]             256\n",
      "             ReLU-33          [-1, 128, 28, 28]               0\n",
      "       BasicBlock-34          [-1, 128, 28, 28]               0\n",
      "           Conv2d-35          [-1, 256, 14, 14]         294,912\n",
      "      BatchNorm2d-36          [-1, 256, 14, 14]             512\n",
      "             ReLU-37          [-1, 256, 14, 14]               0\n",
      "           Conv2d-38          [-1, 256, 14, 14]         589,824\n",
      "      BatchNorm2d-39          [-1, 256, 14, 14]             512\n",
      "           Conv2d-40          [-1, 256, 14, 14]          32,768\n",
      "      BatchNorm2d-41          [-1, 256, 14, 14]             512\n",
      "             ReLU-42          [-1, 256, 14, 14]               0\n",
      "       BasicBlock-43          [-1, 256, 14, 14]               0\n",
      "           Conv2d-44          [-1, 256, 14, 14]         589,824\n",
      "      BatchNorm2d-45          [-1, 256, 14, 14]             512\n",
      "             ReLU-46          [-1, 256, 14, 14]               0\n",
      "           Conv2d-47          [-1, 256, 14, 14]         589,824\n",
      "      BatchNorm2d-48          [-1, 256, 14, 14]             512\n",
      "             ReLU-49          [-1, 256, 14, 14]               0\n",
      "       BasicBlock-50          [-1, 256, 14, 14]               0\n",
      "           Conv2d-51            [-1, 512, 7, 7]       1,179,648\n",
      "      BatchNorm2d-52            [-1, 512, 7, 7]           1,024\n",
      "             ReLU-53            [-1, 512, 7, 7]               0\n",
      "           Conv2d-54            [-1, 512, 7, 7]       2,359,296\n",
      "      BatchNorm2d-55            [-1, 512, 7, 7]           1,024\n",
      "           Conv2d-56            [-1, 512, 7, 7]         131,072\n",
      "      BatchNorm2d-57            [-1, 512, 7, 7]           1,024\n",
      "             ReLU-58            [-1, 512, 7, 7]               0\n",
      "       BasicBlock-59            [-1, 512, 7, 7]               0\n",
      "           Conv2d-60            [-1, 512, 7, 7]       2,359,296\n",
      "      BatchNorm2d-61            [-1, 512, 7, 7]           1,024\n",
      "             ReLU-62            [-1, 512, 7, 7]               0\n",
      "           Conv2d-63            [-1, 512, 7, 7]       2,359,296\n",
      "      BatchNorm2d-64            [-1, 512, 7, 7]           1,024\n",
      "             ReLU-65            [-1, 512, 7, 7]               0\n",
      "       BasicBlock-66            [-1, 512, 7, 7]               0\n",
      "AdaptiveAvgPool2d-67            [-1, 512, 1, 1]               0\n",
      "           Linear-68                   [-1, 62]          31,806\n",
      "================================================================\n",
      "Total params: 11,208,318\n",
      "Trainable params: 31,806\n",
      "Non-trainable params: 11,176,512\n",
      "----------------------------------------------------------------\n",
      "Input size (MB): 0.57\n",
      "Forward/backward pass size (MB): 62.79\n",
      "Params size (MB): 42.76\n",
      "Estimated Total Size (MB): 106.12\n",
      "----------------------------------------------------------------\n"
     ]
    }
   ],
   "source": [
    "# посмотрим на последний слой и количество параметров на обучение\n",
    "summary(model.to(device), input_size=(3, 224, 224))"
   ]
  },
  {
   "cell_type": "code",
   "execution_count": 33,
   "id": "f394977b-388e-4481-a383-ec178af428fb",
   "metadata": {},
   "outputs": [],
   "source": [
    "trainer = torch.optim.Adam(params_to_update, lr=0.01)"
   ]
  },
  {
   "cell_type": "code",
   "execution_count": 37,
   "id": "4eb437a7-465d-4e65-ac34-619d05c588a4",
   "metadata": {},
   "outputs": [
    {
     "name": "stdout",
     "output_type": "stream",
     "text": [
      "--------------------\n",
      "epoch 1, test_n 4960, loss 3.3770, train acc 0.160, test acc 0.179, test loss 3.326, time 15.8 sec\n",
      "--------------------\n",
      "epoch 2, test_n 4960, loss 3.1596, train acc 0.198, test acc 0.236, test loss 3.024, time 14.9 sec\n",
      "--------------------\n",
      "epoch 3, test_n 4960, loss 3.0448, train acc 0.223, test acc 0.277, test loss 2.853, time 15.0 sec\n",
      "--------------------\n",
      "epoch 4, test_n 4960, loss 2.9550, train acc 0.239, test acc 0.274, test loss 2.836, time 14.9 sec\n",
      "--------------------\n",
      "epoch 5, test_n 4960, loss 2.8189, train acc 0.269, test acc 0.264, test loss 2.718, time 14.8 sec\n",
      "--------------------\n",
      "epoch 6, test_n 4960, loss 2.7196, train acc 0.290, test acc 0.281, test loss 2.681, time 15.0 sec\n",
      "--------------------\n",
      "epoch 7, test_n 4960, loss 2.6557, train acc 0.301, test acc 0.285, test loss 2.684, time 15.0 sec\n",
      "--------------------\n",
      "epoch 8, test_n 4960, loss 2.5878, train acc 0.312, test acc 0.318, test loss 2.574, time 15.0 sec\n",
      "--------------------\n",
      "epoch 9, test_n 4960, loss 2.5278, train acc 0.322, test acc 0.336, test loss 2.487, time 15.1 sec\n",
      "--------------------\n",
      "epoch 10, test_n 4960, loss 2.4643, train acc 0.336, test acc 0.331, test loss 2.420, time 15.1 sec\n"
     ]
    }
   ],
   "source": [
    "# думаю этого будет достаточно для сравнения моделей\n",
    "# за весь период обучения модель обучится почти по каждому примеру символов\n",
    "# 148 800 примеров для обучения за 10 эпох\n",
    "train_loss_resnet18, test_loss_resnet18 = train(model, dl_train, dl_test, trainer, num_epochs=10, iter_cnt=60)"
   ]
  },
  {
   "cell_type": "code",
   "execution_count": 38,
   "id": "65d8ce2d-b37f-4ec8-93e8-1516a8be969f",
   "metadata": {},
   "outputs": [],
   "source": [
    "# если наугад без обучения, то test accuracy должен быть 1/62 = 0.016\n",
    "# test accuracy подрос до 0.331"
   ]
  },
  {
   "cell_type": "code",
   "execution_count": 74,
   "id": "4529d2f7-a95e-4ccf-bbc7-e2b2823f669b",
   "metadata": {},
   "outputs": [],
   "source": [
    "model = tv.models.vgg16(weights=None)"
   ]
  },
  {
   "cell_type": "code",
   "execution_count": 75,
   "id": "103b1a57-5664-4d2d-b221-7fc2339961fa",
   "metadata": {},
   "outputs": [],
   "source": [
    "# Убираем требование градиента:\n",
    "for param in model.parameters():\n",
    "    param.requires_grad = False"
   ]
  },
  {
   "cell_type": "code",
   "execution_count": 51,
   "id": "99a28882-5910-4397-892d-7d4be9ac0279",
   "metadata": {},
   "outputs": [
    {
     "data": {
      "text/plain": [
       "Sequential(\n",
       "  (0): Linear(in_features=25088, out_features=4096, bias=True)\n",
       "  (1): ReLU(inplace=True)\n",
       "  (2): Dropout(p=0.5, inplace=False)\n",
       "  (3): Linear(in_features=4096, out_features=4096, bias=True)\n",
       "  (4): ReLU(inplace=True)\n",
       "  (5): Dropout(p=0.5, inplace=False)\n",
       "  (6): Linear(in_features=4096, out_features=1000, bias=True)\n",
       ")"
      ]
     },
     "execution_count": 51,
     "metadata": {},
     "output_type": "execute_result"
    }
   ],
   "source": [
    "# блок классификации\n",
    "model.classifier"
   ]
  },
  {
   "cell_type": "code",
   "execution_count": 53,
   "id": "d4708652-afe9-4098-8e6c-5dc7846ae8ae",
   "metadata": {},
   "outputs": [],
   "source": [
    "# меняем в classification layer\n",
    "model.classifier[6] = nn.Linear(in_features=4096, out_features=62)"
   ]
  },
  {
   "cell_type": "code",
   "execution_count": 54,
   "id": "aa70e132-1041-4e85-bf03-38432ced789c",
   "metadata": {},
   "outputs": [
    {
     "name": "stdout",
     "output_type": "stream",
     "text": [
      "Params to learn:\n",
      "\t classifier.6.weight\n",
      "\t classifier.6.bias\n"
     ]
    }
   ],
   "source": [
    "print(\"Params to learn:\")\n",
    "params_to_update = []\n",
    "for name, param in model.named_parameters():\n",
    "    if param.requires_grad == True:\n",
    "        params_to_update.append(param)\n",
    "        print(\"\\t\",name)"
   ]
  },
  {
   "cell_type": "code",
   "execution_count": 55,
   "id": "1ae3780e-e50a-4da9-8b4e-6dcc0fab037d",
   "metadata": {},
   "outputs": [
    {
     "name": "stdout",
     "output_type": "stream",
     "text": [
      "----------------------------------------------------------------\n",
      "        Layer (type)               Output Shape         Param #\n",
      "================================================================\n",
      "            Conv2d-1         [-1, 64, 224, 224]           1,792\n",
      "              ReLU-2         [-1, 64, 224, 224]               0\n",
      "            Conv2d-3         [-1, 64, 224, 224]          36,928\n",
      "              ReLU-4         [-1, 64, 224, 224]               0\n",
      "         MaxPool2d-5         [-1, 64, 112, 112]               0\n",
      "            Conv2d-6        [-1, 128, 112, 112]          73,856\n",
      "              ReLU-7        [-1, 128, 112, 112]               0\n",
      "            Conv2d-8        [-1, 128, 112, 112]         147,584\n",
      "              ReLU-9        [-1, 128, 112, 112]               0\n",
      "        MaxPool2d-10          [-1, 128, 56, 56]               0\n",
      "           Conv2d-11          [-1, 256, 56, 56]         295,168\n",
      "             ReLU-12          [-1, 256, 56, 56]               0\n",
      "           Conv2d-13          [-1, 256, 56, 56]         590,080\n",
      "             ReLU-14          [-1, 256, 56, 56]               0\n",
      "           Conv2d-15          [-1, 256, 56, 56]         590,080\n",
      "             ReLU-16          [-1, 256, 56, 56]               0\n",
      "        MaxPool2d-17          [-1, 256, 28, 28]               0\n",
      "           Conv2d-18          [-1, 512, 28, 28]       1,180,160\n",
      "             ReLU-19          [-1, 512, 28, 28]               0\n",
      "           Conv2d-20          [-1, 512, 28, 28]       2,359,808\n",
      "             ReLU-21          [-1, 512, 28, 28]               0\n",
      "           Conv2d-22          [-1, 512, 28, 28]       2,359,808\n",
      "             ReLU-23          [-1, 512, 28, 28]               0\n",
      "        MaxPool2d-24          [-1, 512, 14, 14]               0\n",
      "           Conv2d-25          [-1, 512, 14, 14]       2,359,808\n",
      "             ReLU-26          [-1, 512, 14, 14]               0\n",
      "           Conv2d-27          [-1, 512, 14, 14]       2,359,808\n",
      "             ReLU-28          [-1, 512, 14, 14]               0\n",
      "           Conv2d-29          [-1, 512, 14, 14]       2,359,808\n",
      "             ReLU-30          [-1, 512, 14, 14]               0\n",
      "        MaxPool2d-31            [-1, 512, 7, 7]               0\n",
      "AdaptiveAvgPool2d-32            [-1, 512, 7, 7]               0\n",
      "           Linear-33                 [-1, 4096]     102,764,544\n",
      "             ReLU-34                 [-1, 4096]               0\n",
      "          Dropout-35                 [-1, 4096]               0\n",
      "           Linear-36                 [-1, 4096]      16,781,312\n",
      "             ReLU-37                 [-1, 4096]               0\n",
      "          Dropout-38                 [-1, 4096]               0\n",
      "           Linear-39                   [-1, 62]         254,014\n",
      "================================================================\n",
      "Total params: 134,514,558\n",
      "Trainable params: 254,014\n",
      "Non-trainable params: 134,260,544\n",
      "----------------------------------------------------------------\n",
      "Input size (MB): 0.57\n",
      "Forward/backward pass size (MB): 218.77\n",
      "Params size (MB): 513.13\n",
      "Estimated Total Size (MB): 732.48\n",
      "----------------------------------------------------------------\n"
     ]
    }
   ],
   "source": [
    "summary(model.to(device), input_size=(3, 224, 224))"
   ]
  },
  {
   "cell_type": "code",
   "execution_count": 41,
   "id": "096176fa-88c5-42da-8a03-5ca4361996fd",
   "metadata": {},
   "outputs": [],
   "source": [
    "trainer = torch.optim.Adam(params_to_update, lr=0.01)"
   ]
  },
  {
   "cell_type": "code",
   "execution_count": 56,
   "id": "1472e9bf-f995-445a-905c-3ed08b3eb2d9",
   "metadata": {},
   "outputs": [
    {
     "name": "stdout",
     "output_type": "stream",
     "text": [
      "--------------------\n",
      "epoch 1, test_n 4960, loss 4.1274, train acc 0.016, test acc 0.016, test loss 4.127, time 251.7 sec\n",
      "--------------------\n",
      "epoch 2, test_n 4960, loss 4.1271, train acc 0.014, test acc 0.013, test loss 4.128, time 251.8 sec\n",
      "--------------------\n",
      "epoch 3, test_n 4960, loss 4.1270, train acc 0.015, test acc 0.014, test loss 4.127, time 249.5 sec\n",
      "--------------------\n",
      "epoch 4, test_n 4960, loss 4.1274, train acc 0.015, test acc 0.017, test loss 4.127, time 249.1 sec\n"
     ]
    },
    {
     "ename": "KeyboardInterrupt",
     "evalue": "",
     "output_type": "error",
     "traceback": [
      "\u001b[31m---------------------------------------------------------------------------\u001b[39m",
      "\u001b[31mKeyboardInterrupt\u001b[39m                         Traceback (most recent call last)",
      "\u001b[36mCell\u001b[39m\u001b[36m \u001b[39m\u001b[32mIn[56]\u001b[39m\u001b[32m, line 2\u001b[39m\n\u001b[32m      1\u001b[39m \u001b[38;5;66;03m# 148 800 примеров для обучения за 10 эпох\u001b[39;00m\n\u001b[32m----> \u001b[39m\u001b[32m2\u001b[39m train_loss_vgg16, test_loss_vgg16 = \u001b[43mtrain\u001b[49m\u001b[43m(\u001b[49m\u001b[43mmodel\u001b[49m\u001b[43m,\u001b[49m\u001b[43m \u001b[49m\u001b[43mdl_train\u001b[49m\u001b[43m,\u001b[49m\u001b[43m \u001b[49m\u001b[43mdl_test\u001b[49m\u001b[43m,\u001b[49m\u001b[43m \u001b[49m\u001b[43mtrainer\u001b[49m\u001b[43m,\u001b[49m\u001b[43m \u001b[49m\u001b[43mnum_epochs\u001b[49m\u001b[43m=\u001b[49m\u001b[32;43m10\u001b[39;49m\u001b[43m,\u001b[49m\u001b[43m \u001b[49m\u001b[43miter_cnt\u001b[49m\u001b[43m=\u001b[49m\u001b[32;43m60\u001b[39;49m\u001b[43m)\u001b[49m\n",
      "\u001b[36mCell\u001b[39m\u001b[36m \u001b[39m\u001b[32mIn[26]\u001b[39m\u001b[32m, line 19\u001b[39m, in \u001b[36mtrain\u001b[39m\u001b[34m(net, dl_train, dl_test, trainer, num_epochs, iter_cnt)\u001b[39m\n\u001b[32m     17\u001b[39m l.backward()\n\u001b[32m     18\u001b[39m trainer.step()\n\u001b[32m---> \u001b[39m\u001b[32m19\u001b[39m train_l_sum += \u001b[43ml\u001b[49m\u001b[43m.\u001b[49m\u001b[43mitem\u001b[49m\u001b[43m(\u001b[49m\u001b[43m)\u001b[49m\n\u001b[32m     20\u001b[39m train_acc_sum += (y_hat.argmax(axis=\u001b[32m1\u001b[39m) == y).sum().item()\n\u001b[32m     21\u001b[39m n += y.shape[\u001b[32m0\u001b[39m]\n",
      "\u001b[31mKeyboardInterrupt\u001b[39m: "
     ]
    }
   ],
   "source": [
    "# 148 800 примеров для обучения за 10 эпох\n",
    "train_loss_vgg16, test_loss_vgg16 = train(model, dl_train, dl_test, trainer, num_epochs=10, iter_cnt=60)"
   ]
  },
  {
   "cell_type": "code",
   "execution_count": 64,
   "id": "11ad1ef2-5f4d-4c5c-b5ef-675692adfc76",
   "metadata": {},
   "outputs": [],
   "source": [
    "# модель не учится, пойду сначала, путем расширения модели"
   ]
  },
  {
   "cell_type": "code",
   "execution_count": 105,
   "id": "52052bcd-fd2d-4d1e-bf1b-0bddc179b875",
   "metadata": {},
   "outputs": [],
   "source": [
    "model = tv.models.vgg16(weights=None)\n",
    "# Убираем требование градиента:\n",
    "for param in model.parameters():\n",
    "    param.requires_grad = False"
   ]
  },
  {
   "cell_type": "code",
   "execution_count": 106,
   "id": "3b9bc3aa-dd7b-48cc-bac1-683e745de30e",
   "metadata": {},
   "outputs": [
    {
     "data": {
      "text/plain": [
       "Sequential(\n",
       "  (0): Linear(in_features=25088, out_features=4096, bias=True)\n",
       "  (1): ReLU(inplace=True)\n",
       "  (2): Dropout(p=0.5, inplace=False)\n",
       "  (3): Linear(in_features=4096, out_features=4096, bias=True)\n",
       "  (4): ReLU(inplace=True)\n",
       "  (5): Dropout(p=0.5, inplace=False)\n",
       "  (6): Linear(in_features=4096, out_features=1000, bias=True)\n",
       "  (7): ReLU(inplace=True)\n",
       "  (8): Dropout(p=0.5, inplace=False)\n",
       "  (9): Linear(in_features=1000, out_features=62, bias=True)\n",
       ")"
      ]
     },
     "execution_count": 106,
     "metadata": {},
     "output_type": "execute_result"
    }
   ],
   "source": [
    "# добавим ещё слоёв\n",
    "model.classifier.append(nn.ReLU(inplace=True))\n",
    "model.classifier.append(nn.Dropout(p=0.5, inplace=False))\n",
    "model.classifier.append(nn.Linear(in_features=1000, out_features=62))\n",
    "model.classifier"
   ]
  },
  {
   "cell_type": "code",
   "execution_count": 107,
   "id": "3fdfd910-4c00-492a-88ca-75fa83f64d75",
   "metadata": {},
   "outputs": [
    {
     "name": "stdout",
     "output_type": "stream",
     "text": [
      "Params to learn:\n",
      "\t classifier.9.weight\n",
      "\t classifier.9.bias\n"
     ]
    }
   ],
   "source": [
    "print(\"Params to learn:\")\n",
    "params_to_update = []\n",
    "for name, param in model.named_parameters():\n",
    "    if param.requires_grad == True:\n",
    "        params_to_update.append(param)\n",
    "        print(\"\\t\",name)"
   ]
  },
  {
   "cell_type": "code",
   "execution_count": 108,
   "id": "4e66a607-019f-478b-833c-e03f5f94becd",
   "metadata": {},
   "outputs": [
    {
     "name": "stdout",
     "output_type": "stream",
     "text": [
      "----------------------------------------------------------------\n",
      "        Layer (type)               Output Shape         Param #\n",
      "================================================================\n",
      "            Conv2d-1         [-1, 64, 224, 224]           1,792\n",
      "              ReLU-2         [-1, 64, 224, 224]               0\n",
      "            Conv2d-3         [-1, 64, 224, 224]          36,928\n",
      "              ReLU-4         [-1, 64, 224, 224]               0\n",
      "         MaxPool2d-5         [-1, 64, 112, 112]               0\n",
      "            Conv2d-6        [-1, 128, 112, 112]          73,856\n",
      "              ReLU-7        [-1, 128, 112, 112]               0\n",
      "            Conv2d-8        [-1, 128, 112, 112]         147,584\n",
      "              ReLU-9        [-1, 128, 112, 112]               0\n",
      "        MaxPool2d-10          [-1, 128, 56, 56]               0\n",
      "           Conv2d-11          [-1, 256, 56, 56]         295,168\n",
      "             ReLU-12          [-1, 256, 56, 56]               0\n",
      "           Conv2d-13          [-1, 256, 56, 56]         590,080\n",
      "             ReLU-14          [-1, 256, 56, 56]               0\n",
      "           Conv2d-15          [-1, 256, 56, 56]         590,080\n",
      "             ReLU-16          [-1, 256, 56, 56]               0\n",
      "        MaxPool2d-17          [-1, 256, 28, 28]               0\n",
      "           Conv2d-18          [-1, 512, 28, 28]       1,180,160\n",
      "             ReLU-19          [-1, 512, 28, 28]               0\n",
      "           Conv2d-20          [-1, 512, 28, 28]       2,359,808\n",
      "             ReLU-21          [-1, 512, 28, 28]               0\n",
      "           Conv2d-22          [-1, 512, 28, 28]       2,359,808\n",
      "             ReLU-23          [-1, 512, 28, 28]               0\n",
      "        MaxPool2d-24          [-1, 512, 14, 14]               0\n",
      "           Conv2d-25          [-1, 512, 14, 14]       2,359,808\n",
      "             ReLU-26          [-1, 512, 14, 14]               0\n",
      "           Conv2d-27          [-1, 512, 14, 14]       2,359,808\n",
      "             ReLU-28          [-1, 512, 14, 14]               0\n",
      "           Conv2d-29          [-1, 512, 14, 14]       2,359,808\n",
      "             ReLU-30          [-1, 512, 14, 14]               0\n",
      "        MaxPool2d-31            [-1, 512, 7, 7]               0\n",
      "AdaptiveAvgPool2d-32            [-1, 512, 7, 7]               0\n",
      "           Linear-33                 [-1, 4096]     102,764,544\n",
      "             ReLU-34                 [-1, 4096]               0\n",
      "          Dropout-35                 [-1, 4096]               0\n",
      "           Linear-36                 [-1, 4096]      16,781,312\n",
      "             ReLU-37                 [-1, 4096]               0\n",
      "          Dropout-38                 [-1, 4096]               0\n",
      "           Linear-39                 [-1, 1000]       4,097,000\n",
      "             ReLU-40                 [-1, 1000]               0\n",
      "          Dropout-41                 [-1, 1000]               0\n",
      "           Linear-42                   [-1, 62]          62,062\n",
      "================================================================\n",
      "Total params: 138,419,606\n",
      "Trainable params: 62,062\n",
      "Non-trainable params: 138,357,544\n",
      "----------------------------------------------------------------\n",
      "Input size (MB): 0.57\n",
      "Forward/backward pass size (MB): 218.80\n",
      "Params size (MB): 528.03\n",
      "Estimated Total Size (MB): 747.40\n",
      "----------------------------------------------------------------\n"
     ]
    }
   ],
   "source": [
    "# теперь меньше параметров к обучению\n",
    "summary(model.to(device), input_size=(3, 224, 224))"
   ]
  },
  {
   "cell_type": "code",
   "execution_count": 109,
   "id": "e263438b-f84b-4e46-80e5-a63a651e1b4b",
   "metadata": {},
   "outputs": [],
   "source": [
    "# model.named_parameters that requires gradient\n",
    "trainer = torch.optim.Adam(params_to_update, lr=0.01)"
   ]
  },
  {
   "cell_type": "code",
   "execution_count": 110,
   "id": "5bdb1570-62e4-4770-88f0-943bf94f15b6",
   "metadata": {},
   "outputs": [
    {
     "name": "stdout",
     "output_type": "stream",
     "text": [
      "--------------------\n",
      "epoch 1, test_n 4960, loss 4.0785, train acc 0.034, test acc 0.142, test loss 3.993, time 268.9 sec\n",
      "--------------------\n",
      "epoch 2, test_n 4960, loss 3.8953, train acc 0.176, test acc 0.240, test loss 3.789, time 268.8 sec\n",
      "--------------------\n",
      "epoch 3, test_n 4960, loss 3.6727, train acc 0.295, test acc 0.320, test loss 3.553, time 276.8 sec\n",
      "--------------------\n",
      "epoch 4, test_n 4960, loss 3.4431, train acc 0.332, test acc 0.351, test loss 3.338, time 275.2 sec\n",
      "--------------------\n",
      "epoch 5, test_n 4960, loss 3.2286, train acc 0.384, test acc 0.417, test loss 3.123, time 268.5 sec\n",
      "--------------------\n",
      "epoch 6, test_n 4960, loss 3.0320, train acc 0.416, test acc 0.433, test loss 2.936, time 268.6 sec\n",
      "--------------------\n",
      "epoch 7, test_n 4960, loss 2.8666, train acc 0.428, test acc 0.455, test loss 2.782, time 273.5 sec\n",
      "--------------------\n",
      "epoch 8, test_n 4960, loss 2.6938, train acc 0.459, test acc 0.469, test loss 2.619, time 268.3 sec\n",
      "--------------------\n",
      "epoch 9, test_n 4960, loss 2.5684, train acc 0.468, test acc 0.466, test loss 2.499, time 305.5 sec\n",
      "--------------------\n",
      "epoch 10, test_n 4960, loss 2.4372, train acc 0.482, test acc 0.479, test loss 2.396, time 302.1 sec\n"
     ]
    }
   ],
   "source": [
    "# 148 800 примеров для обучения за 10 эпох\n",
    "train_loss_vgg16, test_loss_vgg16 = train(model, dl_train, dl_test, trainer, num_epochs=10, iter_cnt=60)"
   ]
  },
  {
   "cell_type": "code",
   "execution_count": 111,
   "id": "88d8fb2e-94a2-46a2-8ee0-5661e77bcf36",
   "metadata": {},
   "outputs": [
    {
     "data": {
      "image/png": "[encoded data removed]",
      "text/plain": [
       "<Figure size 640x480 with 1 Axes>"
      ]
     },
     "metadata": {},
     "output_type": "display_data"
    }
   ],
   "source": [
    "plt.plot(np.arange(10), train_loss_resnet18, 'ob', label = 'ResNet train loss')\n",
    "plt.plot(np.arange(10), test_loss_resnet18, 'or', label = 'ResNet validation loss')\n",
    "plt.plot(np.arange(10), train_loss_vgg16, 'og', label = 'VGG train loss')\n",
    "plt.plot(np.arange(10), test_loss_vgg16, 'oy', label = 'VGG validation loss')\n",
    "plt.xlabel('x')\n",
    "plt.ylabel('y')\n",
    "plt.legend()\n",
    "plt.show()"
   ]
  },
  {
   "cell_type": "code",
   "execution_count": null,
   "id": "7f9711dd-57e5-4d28-bd46-625ad7aa574b",
   "metadata": {},
   "outputs": [],
   "source": []
  },
  {
   "cell_type": "code",
   "execution_count": 122,
   "id": "58c4efe5-1d67-45cc-b780-57d6a3c585f7",
   "metadata": {},
   "outputs": [],
   "source": [
    "# сразу избавимся от aux_logits и необходимости переписывать train\n",
    "model = tv.models.inception_v3(weights=None, init_weights=False, aux_logits=False, num_classes=62)\n",
    "# model"
   ]
  },
  {
   "cell_type": "code",
   "execution_count": 123,
   "id": "f7ed74e8-8f1f-426b-832f-eaf14fc686ff",
   "metadata": {},
   "outputs": [],
   "source": [
    "# Убираем требование градиента:\n",
    "for param in model.parameters():\n",
    "    param.requires_grad = False"
   ]
  },
  {
   "cell_type": "code",
   "execution_count": 124,
   "id": "ad20526e-89a7-40e9-869e-d3529e3dbb86",
   "metadata": {},
   "outputs": [],
   "source": [
    "# этот слой следует обучить\n",
    "for param in model.fc.parameters():\n",
    "    param.requires_grad = True"
   ]
  },
  {
   "cell_type": "code",
   "execution_count": 126,
   "id": "70685c48-60c5-4b00-ab14-a26eca7757ce",
   "metadata": {},
   "outputs": [],
   "source": [
    "# Trainable params: 127,038\n",
    "# summary(model.to(device), input_size=(3, 299, 299))"
   ]
  },
  {
   "cell_type": "code",
   "execution_count": 127,
   "id": "a76fa532-0583-4f46-8691-46706eac77cc",
   "metadata": {},
   "outputs": [
    {
     "data": {
      "text/plain": [
       "Linear(in_features=2048, out_features=62, bias=True)"
      ]
     },
     "execution_count": 127,
     "metadata": {},
     "output_type": "execute_result"
    }
   ],
   "source": [
    "# убедимся, что на выходе 62 класса\n",
    "model.fc"
   ]
  },
  {
   "cell_type": "code",
   "execution_count": 128,
   "id": "43c54ef6-eb27-41dc-b105-2b460c76cd25",
   "metadata": {},
   "outputs": [
    {
     "name": "stdout",
     "output_type": "stream",
     "text": [
      "Params to learn:\n",
      "\t fc.weight\n",
      "\t fc.bias\n"
     ]
    }
   ],
   "source": [
    "print(\"Params to learn:\")\n",
    "params_to_update = []\n",
    "for name, param in model.named_parameters():\n",
    "    if param.requires_grad == True:\n",
    "        params_to_update.append(param)\n",
    "        print(\"\\t\",name)"
   ]
  },
  {
   "cell_type": "code",
   "execution_count": 129,
   "id": "94d12825-77dc-4613-a6af-2a658b051307",
   "metadata": {},
   "outputs": [],
   "source": [
    "# resize to 299 x 299 and crop to center\n",
    "tf_inc = tv.transforms.Compose([\n",
    "    tv.transforms.Grayscale(3),\n",
    "    tv.transforms.Resize((299, 299)),\n",
    "    tv.transforms.CenterCrop(299),\n",
    "    tv.transforms.ToTensor(),\n",
    "    tv.transforms.Normalize(mean=[0.485, 0.456, 0.406], std=[0.229, 0.224, 0.225])\n",
    "])"
   ]
  },
  {
   "cell_type": "code",
   "execution_count": 130,
   "id": "cc605b9e-fc9f-40c2-be1b-e14fdcf34bd6",
   "metadata": {},
   "outputs": [],
   "source": [
    "inc_train_data = EMNIST(\n",
    "    root='.',\n",
    "    split='byclass',\n",
    "    train=True,\n",
    "    transform=tf_inc,\n",
    "    target_transform=None,\n",
    "    download=False\n",
    ")"
   ]
  },
  {
   "cell_type": "code",
   "execution_count": 131,
   "id": "4de0d55c-3e81-4f90-a374-d574fd4d76dc",
   "metadata": {},
   "outputs": [],
   "source": [
    "inc_test_data = EMNIST(\n",
    "    root='.',\n",
    "    split='byclass',\n",
    "    train=False,\n",
    "    transform=tf_inc,\n",
    "    target_transform=None,\n",
    "    download=False\n",
    ")"
   ]
  },
  {
   "cell_type": "code",
   "execution_count": 132,
   "id": "8bd12a4c-0048-43f4-a2a9-401d121fcde7",
   "metadata": {},
   "outputs": [],
   "source": [
    "# sampler not changed\n",
    "BATCH_SIZE=62*4\n",
    "dl_train = DataLoader(inc_train_data, pin_memory=True, sampler=trn_sampler, batch_size=BATCH_SIZE)\n",
    "dl_test = DataLoader(inc_test_data, pin_memory=True, sampler=tst_sampler, batch_size=BATCH_SIZE)"
   ]
  },
  {
   "cell_type": "code",
   "execution_count": 133,
   "id": "564257a8-625e-4fe0-8866-1247ab16eafc",
   "metadata": {},
   "outputs": [],
   "source": [
    "trainer = torch.optim.Adam(params_to_update, lr=0.01)"
   ]
  },
  {
   "cell_type": "code",
   "execution_count": 134,
   "id": "3d0384f4-7302-4f5a-8414-5c5e3111fac7",
   "metadata": {},
   "outputs": [
    {
     "name": "stdout",
     "output_type": "stream",
     "text": [
      "--------------------\n",
      "epoch 1, test_n 4960, loss 6.0165, train acc 0.061, test acc 0.047, test loss 4.270, time 82.5 sec\n",
      "--------------------\n",
      "epoch 2, test_n 4960, loss 3.4996, train acc 0.156, test acc 0.210, test loss 3.171, time 79.1 sec\n",
      "--------------------\n",
      "epoch 3, test_n 4960, loss 2.9493, train acc 0.253, test acc 0.260, test loss 2.784, time 76.6 sec\n",
      "--------------------\n",
      "epoch 4, test_n 4960, loss 2.7316, train acc 0.290, test acc 0.301, test loss 2.656, time 75.6 sec\n",
      "--------------------\n",
      "epoch 5, test_n 4960, loss 2.5331, train acc 0.336, test acc 0.368, test loss 2.425, time 78.5 sec\n",
      "--------------------\n",
      "epoch 6, test_n 4960, loss 2.3362, train acc 0.367, test acc 0.385, test loss 2.259, time 80.0 sec\n",
      "--------------------\n",
      "epoch 7, test_n 4960, loss 2.2567, train acc 0.381, test acc 0.367, test loss 2.251, time 78.7 sec\n",
      "--------------------\n",
      "epoch 8, test_n 4960, loss 2.1708, train acc 0.405, test acc 0.417, test loss 2.114, time 80.9 sec\n",
      "--------------------\n",
      "epoch 9, test_n 4960, loss 2.0527, train acc 0.422, test acc 0.421, test loss 1.991, time 79.4 sec\n",
      "--------------------\n",
      "epoch 10, test_n 4960, loss 1.9805, train acc 0.446, test acc 0.424, test loss 2.024, time 79.3 sec\n"
     ]
    }
   ],
   "source": [
    "# 148 800 примеров для обучения за 10 эпох\n",
    "train_loss_inc, test_loss_inc = train(model, dl_train, dl_test, trainer, num_epochs=10, iter_cnt=60)"
   ]
  },
  {
   "cell_type": "code",
   "execution_count": 212,
   "id": "42d2beb9-a4b4-4585-b41a-34e88b6ce7cc",
   "metadata": {},
   "outputs": [],
   "source": [
    "model = tv.models.densenet161(weights=None, num_classes=62)\n",
    "# model (classifier): Linear(in_features=2208, out_features=62, bias=True)"
   ]
  },
  {
   "cell_type": "code",
   "execution_count": 213,
   "id": "155cf606-d8e1-490f-b604-a0a47d5ba8c3",
   "metadata": {},
   "outputs": [],
   "source": [
    "# Убираем требование градиента:\n",
    "for param in model.parameters():\n",
    "    param.requires_grad = False"
   ]
  },
  {
   "cell_type": "code",
   "execution_count": 214,
   "id": "99d0d55d-ca38-4f32-8fd0-a4307e9b8112",
   "metadata": {},
   "outputs": [],
   "source": [
    "# этот слой следует обучить\n",
    "for param in model.classifier.parameters():\n",
    "    param.requires_grad = True"
   ]
  },
  {
   "cell_type": "code",
   "execution_count": 215,
   "id": "05fc2950-2332-4e56-ba13-443c232d7c63",
   "metadata": {},
   "outputs": [
    {
     "name": "stdout",
     "output_type": "stream",
     "text": [
      "Params to learn:\n",
      "\t classifier.weight\n",
      "\t classifier.bias\n"
     ]
    }
   ],
   "source": [
    "print(\"Params to learn:\")\n",
    "params_to_update = []\n",
    "for name, param in model.named_parameters():\n",
    "    if param.requires_grad == True:\n",
    "        params_to_update.append(param)\n",
    "        print(\"\\t\",name)"
   ]
  },
  {
   "cell_type": "code",
   "execution_count": 217,
   "id": "f64ba8f0-e9eb-4a82-9d7d-2dafaba5b565",
   "metadata": {},
   "outputs": [],
   "source": [
    "# tinfo.summary(model, input_size=(1, 3, 224, 224))\n",
    "# Trainable params: 136,958\n",
    "# output 62"
   ]
  },
  {
   "cell_type": "code",
   "execution_count": 218,
   "id": "82f4b136-9bb9-486d-ba53-a0466bee6e49",
   "metadata": {},
   "outputs": [],
   "source": [
    "# resize to 224 x 224\n",
    "tf_dens = tv.transforms.Compose([\n",
    "    tv.transforms.Grayscale(3),\n",
    "    tv.transforms.Resize((224, 224)),\n",
    "    tv.transforms.CenterCrop(224),\n",
    "    tv.transforms.ToTensor(),\n",
    "    tv.transforms.Normalize(mean=[0.485, 0.456, 0.406], std=[0.229, 0.224, 0.225])\n",
    "])"
   ]
  },
  {
   "cell_type": "code",
   "execution_count": 219,
   "id": "037631cf-dfe1-4f9a-87a9-dd9ca5d414d8",
   "metadata": {},
   "outputs": [],
   "source": [
    "dens_train_data = EMNIST(\n",
    "    root='.',\n",
    "    split='byclass',\n",
    "    train=True,\n",
    "    transform=tf_dens,\n",
    "    target_transform=None,\n",
    "    download=False\n",
    ")"
   ]
  },
  {
   "cell_type": "code",
   "execution_count": 220,
   "id": "e541e325-cffd-44b9-86b5-8600d087d401",
   "metadata": {},
   "outputs": [],
   "source": [
    "dens_test_data = EMNIST(\n",
    "    root='.',\n",
    "    split='byclass',\n",
    "    train=False,\n",
    "    transform=tf_dens,\n",
    "    target_transform=None,\n",
    "    download=False\n",
    ")"
   ]
  },
  {
   "cell_type": "code",
   "execution_count": 221,
   "id": "2a9fbf20-34ab-4b7f-9a07-3c125a9f7c13",
   "metadata": {},
   "outputs": [],
   "source": [
    "# sampler not changed\n",
    "BATCH_SIZE=62*2\n",
    "dl_train = DataLoader(dens_train_data, pin_memory=True, sampler=trn_sampler, batch_size=BATCH_SIZE)\n",
    "dl_test = DataLoader(dens_test_data, pin_memory=True, sampler=tst_sampler, batch_size=BATCH_SIZE)"
   ]
  },
  {
   "cell_type": "code",
   "execution_count": 222,
   "id": "cbdd04e6-3d32-4d52-beed-841e0204895d",
   "metadata": {},
   "outputs": [],
   "source": [
    "trainer = torch.optim.Adam(params_to_update, lr=0.01)"
   ]
  },
  {
   "cell_type": "code",
   "execution_count": 223,
   "id": "a245b094-3601-4cb8-870e-535d8d99cb03",
   "metadata": {},
   "outputs": [
    {
     "name": "stdout",
     "output_type": "stream",
     "text": [
      "--------------------\n",
      "epoch 1, test_n 2480, loss 6.6640, train acc 0.098, test acc 0.174, test loss 3.207, time 41.7 sec\n",
      "--------------------\n",
      "epoch 2, test_n 2480, loss 3.1120, train acc 0.234, test acc 0.306, test loss 2.902, time 38.8 sec\n",
      "--------------------\n",
      "epoch 3, test_n 2480, loss 2.8099, train acc 0.293, test acc 0.341, test loss 2.577, time 35.9 sec\n",
      "--------------------\n",
      "epoch 4, test_n 2480, loss 2.4910, train acc 0.362, test acc 0.402, test loss 2.293, time 35.8 sec\n",
      "--------------------\n",
      "epoch 5, test_n 2480, loss 2.3894, train acc 0.384, test acc 0.406, test loss 2.185, time 36.5 sec\n",
      "--------------------\n",
      "epoch 6, test_n 2480, loss 2.3036, train acc 0.398, test acc 0.412, test loss 2.279, time 38.0 sec\n",
      "--------------------\n",
      "epoch 7, test_n 2480, loss 2.1814, train acc 0.430, test acc 0.445, test loss 2.126, time 37.6 sec\n",
      "--------------------\n",
      "epoch 8, test_n 2480, loss 2.1607, train acc 0.438, test acc 0.492, test loss 2.059, time 40.5 sec\n",
      "--------------------\n",
      "epoch 9, test_n 2480, loss 2.0103, train acc 0.460, test acc 0.488, test loss 1.847, time 39.6 sec\n",
      "--------------------\n",
      "epoch 10, test_n 2480, loss 2.0373, train acc 0.458, test acc 0.479, test loss 1.818, time 39.4 sec\n"
     ]
    }
   ],
   "source": [
    "# 10 x 100 x 124 = 124 000 примеров для обучения за 10 эпох\n",
    "train_loss_dens, test_loss_dens = train(model, dl_train, dl_test, trainer, num_epochs=10, iter_cnt=100)"
   ]
  },
  {
   "cell_type": "code",
   "execution_count": 225,
   "id": "c2473040-8089-4f0e-a4fe-39729e91ba5e",
   "metadata": {},
   "outputs": [
    {
     "data": {
      "image/png": "[encoded data removed]",
      "text/plain": [
       "<Figure size 640x480 with 1 Axes>"
      ]
     },
     "metadata": {},
     "output_type": "display_data"
    }
   ],
   "source": [
    "plt.plot(np.arange(10), test_loss_resnet18, 'ob', label = 'ResNet validation loss')\n",
    "plt.plot(np.arange(10), test_loss_vgg16, 'or', label = 'VGG validation loss')\n",
    "plt.plot(np.arange(10), test_loss_inc, 'og', label = 'Inception validation loss')\n",
    "plt.plot(np.arange(10), test_loss_dens, 'oy', label = 'DensNet validation loss')\n",
    "plt.xlabel('x')\n",
    "plt.ylabel('y')\n",
    "plt.legend()\n",
    "plt.show()"
   ]
  },
  {
   "cell_type": "code",
   "execution_count": 226,
   "id": "e86e7a35-4174-4d6e-8af9-568f2583622d",
   "metadata": {},
   "outputs": [],
   "source": [
    "# Лучшие показатели обучаемости у DensNet, однако, надо отметить, что нагрузка на комп кратно возрастала."
   ]
  },
  {
   "cell_type": "code",
   "execution_count": 229,
   "id": "598206c1-8be8-4cb3-a548-1359cc2050d4",
   "metadata": {},
   "outputs": [],
   "source": [
    "import pandas as pd"
   ]
  },
  {
   "cell_type": "code",
   "execution_count": 232,
   "id": "f7ecd731-d039-4e69-b834-3b92fbbb14b9",
   "metadata": {},
   "outputs": [],
   "source": [
    "df = pd.DataFrame(\n",
    "    {\n",
    "        'ResNet': test_loss_resnet18,\n",
    "        'VGG': test_loss_vgg16,\n",
    "        'Inception': test_loss_inc,\n",
    "        'DensNet': test_loss_dens\n",
    "    },\n",
    "    index = pd.RangeIndex(1, 11)\n",
    ")"
   ]
  },
  {
   "cell_type": "code",
   "execution_count": 233,
   "id": "9e3fd022-91f6-41c0-80ea-beada2842155",
   "metadata": {},
   "outputs": [
    {
     "data": {
      "text/html": [
       "<div>\n",
       "<style scoped>\n",
       "    .dataframe tbody tr th:only-of-type {\n",
       "        vertical-align: middle;\n",
       "    }\n",
       "\n",
       "    .dataframe tbody tr th {\n",
       "        vertical-align: top;\n",
       "    }\n",
       "\n",
       "    .dataframe thead th {\n",
       "        text-align: right;\n",
       "    }\n",
       "</style>\n",
       "<table border=\"1\" class=\"dataframe\">\n",
       "  <thead>\n",
       "    <tr style=\"text-align: right;\">\n",
       "      <th></th>\n",
       "      <th>ResNet</th>\n",
       "      <th>VGG</th>\n",
       "      <th>Inception</th>\n",
       "      <th>DensNet</th>\n",
       "    </tr>\n",
       "  </thead>\n",
       "  <tbody>\n",
       "    <tr>\n",
       "      <th>1</th>\n",
       "      <td>3.326115</td>\n",
       "      <td>3.993319</td>\n",
       "      <td>4.270373</td>\n",
       "      <td>3.207435</td>\n",
       "    </tr>\n",
       "    <tr>\n",
       "      <th>2</th>\n",
       "      <td>3.024475</td>\n",
       "      <td>3.789137</td>\n",
       "      <td>3.170897</td>\n",
       "      <td>2.901554</td>\n",
       "    </tr>\n",
       "    <tr>\n",
       "      <th>3</th>\n",
       "      <td>2.852667</td>\n",
       "      <td>3.553175</td>\n",
       "      <td>2.783753</td>\n",
       "      <td>2.576824</td>\n",
       "    </tr>\n",
       "    <tr>\n",
       "      <th>4</th>\n",
       "      <td>2.835800</td>\n",
       "      <td>3.337988</td>\n",
       "      <td>2.655618</td>\n",
       "      <td>2.292868</td>\n",
       "    </tr>\n",
       "    <tr>\n",
       "      <th>5</th>\n",
       "      <td>2.717551</td>\n",
       "      <td>3.122512</td>\n",
       "      <td>2.424893</td>\n",
       "      <td>2.184949</td>\n",
       "    </tr>\n",
       "    <tr>\n",
       "      <th>6</th>\n",
       "      <td>2.680651</td>\n",
       "      <td>2.935810</td>\n",
       "      <td>2.258764</td>\n",
       "      <td>2.279374</td>\n",
       "    </tr>\n",
       "    <tr>\n",
       "      <th>7</th>\n",
       "      <td>2.684014</td>\n",
       "      <td>2.782053</td>\n",
       "      <td>2.250511</td>\n",
       "      <td>2.126157</td>\n",
       "    </tr>\n",
       "    <tr>\n",
       "      <th>8</th>\n",
       "      <td>2.573885</td>\n",
       "      <td>2.618844</td>\n",
       "      <td>2.113775</td>\n",
       "      <td>2.058982</td>\n",
       "    </tr>\n",
       "    <tr>\n",
       "      <th>9</th>\n",
       "      <td>2.486901</td>\n",
       "      <td>2.499459</td>\n",
       "      <td>1.990570</td>\n",
       "      <td>1.846874</td>\n",
       "    </tr>\n",
       "    <tr>\n",
       "      <th>10</th>\n",
       "      <td>2.420169</td>\n",
       "      <td>2.395699</td>\n",
       "      <td>2.024007</td>\n",
       "      <td>1.817526</td>\n",
       "    </tr>\n",
       "  </tbody>\n",
       "</table>\n",
       "</div>"
      ],
      "text/plain": [
       "      ResNet       VGG  Inception   DensNet\n",
       "1   3.326115  3.993319   4.270373  3.207435\n",
       "2   3.024475  3.789137   3.170897  2.901554\n",
       "3   2.852667  3.553175   2.783753  2.576824\n",
       "4   2.835800  3.337988   2.655618  2.292868\n",
       "5   2.717551  3.122512   2.424893  2.184949\n",
       "6   2.680651  2.935810   2.258764  2.279374\n",
       "7   2.684014  2.782053   2.250511  2.126157\n",
       "8   2.573885  2.618844   2.113775  2.058982\n",
       "9   2.486901  2.499459   1.990570  1.846874\n",
       "10  2.420169  2.395699   2.024007  1.817526"
      ]
     },
     "execution_count": 233,
     "metadata": {},
     "output_type": "execute_result"
    }
   ],
   "source": [
    "df"
   ]
  },
  {
   "cell_type": "code",
   "execution_count": 234,
   "id": "c2426435-fa41-4bd7-9614-76e278e8a90e",
   "metadata": {},
   "outputs": [],
   "source": [
    "# Inception потребляет меньших системных ресурсов, но немного отстает в скорости обучения в сравнении с DensNet."
   ]
  }
 ],
 "metadata": {
  "kernelspec": {
   "display_name": "Python 3 (ipykernel)",
   "language": "python",
   "name": "python3"
  },
  "language_info": {
   "codemirror_mode": {
    "name": "ipython",
    "version": 3
   },
   "file_extension": ".py",
   "mimetype": "text/x-python",
   "name": "python",
   "nbconvert_exporter": "python",
   "pygments_lexer": "ipython3",
   "version": "3.12.10"
  }
 },
 "nbformat": 4,
 "nbformat_minor": 5
}
