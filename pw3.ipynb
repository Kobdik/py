{
 "cells": [
  {
   "cell_type": "code",
   "execution_count": 1,
   "id": "c8d00297",
   "metadata": {},
   "outputs": [],
   "source": [
    "import torch\n",
    "from torch import nn"
   ]
  },
  {
   "cell_type": "code",
   "execution_count": 55,
   "id": "90d11384",
   "metadata": {},
   "outputs": [
    {
     "name": "stdout",
     "output_type": "stream",
     "text": [
      "tensor([[0., 1., 2.],\n",
      "        [3., 4., 5.],\n",
      "        [6., 7., 8.]])\n"
     ]
    }
   ],
   "source": [
    "X = torch.arange(9).reshape(3,3).type(torch.float32)\n",
    "print(X)"
   ]
  },
  {
   "cell_type": "code",
   "execution_count": 56,
   "id": "50f6526c",
   "metadata": {},
   "outputs": [
    {
     "name": "stdout",
     "output_type": "stream",
     "text": [
      "tensor([[0., 1.],\n",
      "        [2., 3.]])\n"
     ]
    }
   ],
   "source": [
    "K = torch.arange(4).reshape(2,2).type(torch.float32)\n",
    "print(K)"
   ]
  },
  {
   "cell_type": "code",
   "execution_count": 39,
   "id": "d948fe56",
   "metadata": {},
   "outputs": [],
   "source": [
    "def corr2d(X, K):\n",
    "    h, w = K.shape\n",
    "    Y = torch.zeros((X.shape[0] - h + 1, X.shape[1] - w + 1))\n",
    "    for i in range (Y.shape[0]):\n",
    "        for j in range (Y.shape[1]):\n",
    "            Y[i, j] = (X[i : i + h, j : j + w] * K).sum()\n",
    "    return Y\n"
   ]
  },
  {
   "cell_type": "code",
   "execution_count": 57,
   "id": "bdac8f41",
   "metadata": {},
   "outputs": [
    {
     "data": {
      "text/plain": [
       "tensor([[19., 25.],\n",
       "        [37., 43.]])"
      ]
     },
     "execution_count": 57,
     "metadata": {},
     "output_type": "execute_result"
    }
   ],
   "source": [
    "corr2d(X, K)"
   ]
  },
  {
   "cell_type": "code",
   "execution_count": 102,
   "id": "287ed22e",
   "metadata": {},
   "outputs": [
    {
     "name": "stdout",
     "output_type": "stream",
     "text": [
      "tensor([[[[ 1.,  2.,  3.,  4.],\n",
      "          [ 5.,  6.,  7.,  8.],\n",
      "          [ 9., 10., 11., 12.],\n",
      "          [13., 14., 15., 16.]]]])\n",
      "tensor([[[[ 0., -1.,  0.],\n",
      "          [-1.,  5., -1.],\n",
      "          [ 0., -1.,  0.]]],\n",
      "\n",
      "\n",
      "        [[[-1.,  0.,  1.],\n",
      "          [ 1., -1.,  0.],\n",
      "          [ 0.,  1., -1.]]]])\n",
      "tensor([5., 0.])\n",
      "torch.Size([2, 1, 3, 3])\n",
      "torch.Size([2])\n",
      "tensor([[11., 12.],\n",
      "        [15., 16.]], grad_fn=<SelectBackward0>)\n",
      "tensor([[0., 0.],\n",
      "        [0., 0.]], grad_fn=<SelectBackward0>)\n"
     ]
    }
   ],
   "source": [
    "X = (torch.arange(16) + 1).type(torch.float32).reshape(1,1,4,4)\n",
    "print(X)\n",
    "K0 = torch.Tensor([[0,-1,0], [-1,5,-1], [0,-1,0]]).type(torch.float32).reshape(1,1,3,3)\n",
    "K1 = torch.Tensor([[-1,0,1], [1,-1,0], [0,1,-1]]).type(torch.float32).reshape(1,1,3,3)\n",
    "K = torch.cat((K0, K1), dim=0)\n",
    "print(K)\n",
    "b0 = torch.Tensor([5.])\n",
    "b1 = torch.Tensor([0.])\n",
    "b = torch.cat((b0, b1), dim=0)\n",
    "print(b)\n",
    "conv2d = torch.nn.Conv2d(in_channels=1, out_channels=2, kernel_size=3, bias=True)\n",
    "print(conv2d.weight.shape)\n",
    "print(conv2d.bias.shape)\n",
    "conv2d.weight = nn.Parameter(K)\n",
    "conv2d.bias = nn.Parameter(b)\n",
    "Z = conv2d(X)\n",
    "print(Z[0][0])\n",
    "print(Z[0][1])"
   ]
  },
  {
   "cell_type": "code",
   "execution_count": 53,
   "id": "99a9a1d7",
   "metadata": {},
   "outputs": [
    {
     "data": {
      "text/plain": [
       "tensor([[1., 1., 0., 0., 0., 0., 1., 1.],\n",
       "        [1., 1., 0., 0., 0., 0., 1., 1.],\n",
       "        [1., 1., 0., 0., 0., 0., 1., 1.],\n",
       "        [1., 1., 0., 0., 0., 0., 1., 1.],\n",
       "        [1., 1., 0., 0., 0., 0., 1., 1.],\n",
       "        [1., 1., 0., 0., 0., 0., 1., 1.]])"
      ]
     },
     "execution_count": 53,
     "metadata": {},
     "output_type": "execute_result"
    }
   ],
   "source": [
    "X = torch.ones((6,8))\n",
    "X[:, 2:6] = 0\n",
    "X"
   ]
  },
  {
   "cell_type": "code",
   "execution_count": 7,
   "id": "3040bd88",
   "metadata": {},
   "outputs": [
    {
     "name": "stdout",
     "output_type": "stream",
     "text": [
      "torch.Size([1, 2])\n",
      "tensor([[ 0.,  1.,  0.,  0.,  0., -1.,  0.],\n",
      "        [ 0.,  1.,  0.,  0.,  0., -1.,  0.],\n",
      "        [ 0.,  1.,  0.,  0.,  0., -1.,  0.],\n",
      "        [ 0.,  1.,  0.,  0.,  0., -1.,  0.],\n",
      "        [ 0.,  1.,  0.,  0.,  0., -1.,  0.],\n",
      "        [ 0.,  1.,  0.,  0.,  0., -1.,  0.]])\n"
     ]
    }
   ],
   "source": [
    "# vertical edges filter, when pass throw one to zero or throw zero to one\n",
    "K = torch.Tensor([[1, -1]])\n",
    "print(K.shape)\n",
    "Y = corr2d(X, K)\n",
    "print(Y)"
   ]
  },
  {
   "cell_type": "code",
   "execution_count": null,
   "id": "52813249",
   "metadata": {},
   "outputs": [
    {
     "name": "stdout",
     "output_type": "stream",
     "text": [
      "tensor([[1., 1., 1., 1., 1., 1.],\n",
      "        [1., 1., 1., 1., 1., 1.],\n",
      "        [0., 0., 0., 0., 0., 0.],\n",
      "        [0., 0., 0., 0., 0., 0.],\n",
      "        [0., 0., 0., 0., 0., 0.],\n",
      "        [0., 0., 0., 0., 0., 0.],\n",
      "        [1., 1., 1., 1., 1., 1.],\n",
      "        [1., 1., 1., 1., 1., 1.]])\n",
      "tensor([[0., 0., 0., 0., 0.],\n",
      "        [0., 0., 0., 0., 0.],\n",
      "        [0., 0., 0., 0., 0.],\n",
      "        [0., 0., 0., 0., 0.],\n",
      "        [0., 0., 0., 0., 0.],\n",
      "        [0., 0., 0., 0., 0.],\n",
      "        [0., 0., 0., 0., 0.],\n",
      "        [0., 0., 0., 0., 0.]])\n"
     ]
    }
   ],
   "source": [
    "Z = corr2d(X.T, K)\n",
    "print(X.T)\n",
    "# not found\n",
    "print(Z)"
   ]
  },
  {
   "cell_type": "code",
   "execution_count": 9,
   "id": "c75a243b",
   "metadata": {},
   "outputs": [],
   "source": [
    "X = X.reshape(1,1,6,8)"
   ]
  },
  {
   "cell_type": "code",
   "execution_count": 12,
   "id": "38c14dbd",
   "metadata": {},
   "outputs": [],
   "source": [
    "Y = Y.reshape(1,1,6,7)"
   ]
  },
  {
   "cell_type": "code",
   "execution_count": 13,
   "id": "a6290b0c",
   "metadata": {},
   "outputs": [
    {
     "data": {
      "text/plain": [
       "tensor([[[[ 0.,  1.,  0.,  0.,  0., -1.,  0.],\n",
       "          [ 0.,  1.,  0.,  0.,  0., -1.,  0.],\n",
       "          [ 0.,  1.,  0.,  0.,  0., -1.,  0.],\n",
       "          [ 0.,  1.,  0.,  0.,  0., -1.,  0.],\n",
       "          [ 0.,  1.,  0.,  0.,  0., -1.,  0.],\n",
       "          [ 0.,  1.,  0.,  0.,  0., -1.,  0.]]]])"
      ]
     },
     "execution_count": 13,
     "metadata": {},
     "output_type": "execute_result"
    }
   ],
   "source": [
    "Y"
   ]
  },
  {
   "cell_type": "code",
   "execution_count": 14,
   "id": "0d8446bb",
   "metadata": {},
   "outputs": [],
   "source": [
    "conv2d = torch.nn.Conv2d(in_channels=1, out_channels=1, kernel_size=(1,2))"
   ]
  },
  {
   "cell_type": "code",
   "execution_count": 15,
   "id": "b940e4b4",
   "metadata": {},
   "outputs": [],
   "source": [
    "optimizer = torch.optim.SGD(conv2d.parameters(), lr=0.1)"
   ]
  },
  {
   "cell_type": "code",
   "execution_count": 16,
   "id": "bdd24e09",
   "metadata": {},
   "outputs": [],
   "source": [
    "criterion = nn.MSELoss()"
   ]
  },
  {
   "cell_type": "code",
   "execution_count": 17,
   "id": "aed2d6b1",
   "metadata": {},
   "outputs": [
    {
     "name": "stdout",
     "output_type": "stream",
     "text": [
      "batch 20, loss 0.165 \n",
      "batch 40, loss 0.050 \n",
      "batch 60, loss 0.015 \n",
      "batch 80, loss 0.005 \n",
      "batch 100, loss 0.001 \n",
      "batch 120, loss 0.000 \n",
      "batch 140, loss 0.000 \n",
      "batch 160, loss 0.000 \n",
      "batch 180, loss 0.000 \n",
      "batch 200, loss 0.000 \n"
     ]
    }
   ],
   "source": [
    "for i in range(200):\n",
    "    optimizer.zero_grad()\n",
    "    Y_hat = conv2d(X)\n",
    "    l = criterion(Y_hat, Y)\n",
    "    l.backward()\n",
    "    optimizer.step()\n",
    "    if (i + 1) % 20 == 0:\n",
    "        print(f'batch {i + 1}, loss { l.item():.3f} ')"
   ]
  },
  {
   "cell_type": "code",
   "execution_count": 18,
   "id": "64bf1815",
   "metadata": {},
   "outputs": [
    {
     "name": "stdout",
     "output_type": "stream",
     "text": [
      "Parameter containing:\n",
      "tensor([[[[ 0.9961, -0.9961]]]], requires_grad=True)\n",
      "Parameter containing:\n",
      "tensor([-2.2425e-05], requires_grad=True)\n"
     ]
    }
   ],
   "source": [
    "print(conv2d.weight)\n",
    "print(conv2d.bias)"
   ]
  },
  {
   "cell_type": "code",
   "execution_count": 20,
   "id": "5781c9f1",
   "metadata": {},
   "outputs": [
    {
     "data": {
      "text/plain": [
       "torch.Size([1, 1, 8, 8])"
      ]
     },
     "execution_count": 20,
     "metadata": {},
     "output_type": "execute_result"
    }
   ],
   "source": [
    "conv2d = torch.nn.Conv2d(in_channels=1, out_channels=1, kernel_size=3, padding=1)\n",
    "X = torch.randn((1,1,8,8))\n",
    "conv2d(X).shape"
   ]
  },
  {
   "cell_type": "code",
   "execution_count": 21,
   "id": "2c485580",
   "metadata": {},
   "outputs": [
    {
     "data": {
      "text/plain": [
       "torch.Size([1, 1, 3, 3])"
      ]
     },
     "execution_count": 21,
     "metadata": {},
     "output_type": "execute_result"
    }
   ],
   "source": [
    "conv2d.weight.shape"
   ]
  },
  {
   "cell_type": "code",
   "execution_count": 35,
   "id": "76435b06",
   "metadata": {},
   "outputs": [
    {
     "name": "stdout",
     "output_type": "stream",
     "text": [
      "torch.Size([1, 32, 8, 8])\n"
     ]
    },
    {
     "data": {
      "text/plain": [
       "tensor([[-0.1636,  0.0375, -0.3740,  0.1032, -0.6506,  0.7263, -0.2048, -0.0845],\n",
       "        [-0.1678, -0.6150,  0.4872, -0.3901, -0.6995, -0.7752,  0.7438, -0.4703],\n",
       "        [-0.3539,  0.5536, -0.7808, -0.3305, -0.1008, -0.1421, -0.3280,  0.0506],\n",
       "        [ 0.2813, -0.4818,  0.6427, -0.2605, -0.5786,  0.5880, -0.2122, -0.1324],\n",
       "        [-0.2952, -1.4465, -0.1513,  0.5233,  0.6449, -0.0873, -0.6032,  0.2751],\n",
       "        [-0.3967, -0.7092, -0.1534,  0.2536, -0.6453,  0.3957,  0.1839, -0.2833],\n",
       "        [ 0.4214, -0.2917, -0.4039, -0.4224,  0.5376, -0.3361, -0.3489, -0.1443],\n",
       "        [-0.3132,  0.2131,  0.1033, -0.7570, -0.2428, -0.1499, -0.3422, -0.0019]],\n",
       "       grad_fn=<SelectBackward0>)"
      ]
     },
     "execution_count": 35,
     "metadata": {},
     "output_type": "execute_result"
    }
   ],
   "source": [
    "conv2d = torch.nn.Conv2d(in_channels=3, out_channels=32, kernel_size=3, padding=1)\n",
    "# 1 batch, 3 chanels, 8 x 8\n",
    "X = torch.randn((1,3,8,8))\n",
    "Z = conv2d(X)\n",
    "print(Z.shape)\n",
    "Z[0][28]"
   ]
  },
  {
   "cell_type": "code",
   "execution_count": null,
   "id": "98598085",
   "metadata": {},
   "outputs": [
    {
     "data": {
      "text/plain": [
       "torch.Size([32, 3, 3, 3])"
      ]
     },
     "execution_count": 23,
     "metadata": {},
     "output_type": "execute_result"
    }
   ],
   "source": [
    "# out 1 batch, 32 chanels, 3 x 3\n",
    "conv2d.weight.shape"
   ]
  },
  {
   "cell_type": "code",
   "execution_count": 24,
   "id": "aef32775",
   "metadata": {},
   "outputs": [
    {
     "data": {
      "text/plain": [
       "tensor([[[[ 0.,  1.,  2.,  3.],\n",
       "          [ 4.,  5.,  6.,  7.],\n",
       "          [ 8.,  9., 10., 11.],\n",
       "          [12., 13., 14., 15.]]]])"
      ]
     },
     "execution_count": 24,
     "metadata": {},
     "output_type": "execute_result"
    }
   ],
   "source": [
    "X = torch.arange(16).reshape(1,1,4,4).type(torch.float)\n",
    "X"
   ]
  },
  {
   "cell_type": "code",
   "execution_count": 27,
   "id": "028e9a38",
   "metadata": {},
   "outputs": [
    {
     "data": {
      "text/plain": [
       "tensor([[[[ 5.,  7.],\n",
       "          [13., 15.]]]])"
      ]
     },
     "execution_count": 27,
     "metadata": {},
     "output_type": "execute_result"
    }
   ],
   "source": [
    "pool2d = nn.MaxPool2d(3, padding=1, stride=2)\n",
    "pool2d(X)"
   ]
  },
  {
   "cell_type": "code",
   "execution_count": 30,
   "id": "a8297d7e",
   "metadata": {},
   "outputs": [
    {
     "data": {
      "text/plain": [
       "tensor([[[[ 1.,  3.],\n",
       "          [ 9., 11.],\n",
       "          [13., 15.]]]])"
      ]
     },
     "execution_count": 30,
     "metadata": {},
     "output_type": "execute_result"
    }
   ],
   "source": [
    "pool2d = nn.MaxPool2d((2,3), padding=(1,1), stride=(2,3))\n",
    "pool2d(X)"
   ]
  },
  {
   "cell_type": "code",
   "execution_count": 31,
   "id": "b3ed1708",
   "metadata": {},
   "outputs": [
    {
     "data": {
      "text/plain": [
       "tensor([[[[ 0.,  1.,  2.,  3.],\n",
       "          [ 4.,  5.,  6.,  7.],\n",
       "          [ 8.,  9., 10., 11.],\n",
       "          [12., 13., 14., 15.]],\n",
       "\n",
       "         [[ 1.,  2.,  3.,  4.],\n",
       "          [ 5.,  6.,  7.,  8.],\n",
       "          [ 9., 10., 11., 12.],\n",
       "          [13., 14., 15., 16.]]]])"
      ]
     },
     "execution_count": 31,
     "metadata": {},
     "output_type": "execute_result"
    }
   ],
   "source": [
    "X = torch.cat((X, X+1), dim=1)\n",
    "X"
   ]
  },
  {
   "cell_type": "code",
   "execution_count": 32,
   "id": "5d48ed69",
   "metadata": {},
   "outputs": [
    {
     "data": {
      "text/plain": [
       "tensor([[[[ 5.,  7.],\n",
       "          [13., 15.]],\n",
       "\n",
       "         [[ 6.,  8.],\n",
       "          [14., 16.]]]])"
      ]
     },
     "execution_count": 32,
     "metadata": {},
     "output_type": "execute_result"
    }
   ],
   "source": [
    "pool2d = nn.MaxPool2d((3,3), padding=(1,1), stride=(2,2))\n",
    "pool2d(X)"
   ]
  },
  {
   "cell_type": "code",
   "execution_count": null,
   "id": "b09ee7c6",
   "metadata": {},
   "outputs": [],
   "source": []
  }
 ],
 "metadata": {
  "kernelspec": {
   "display_name": "Python 3",
   "language": "python",
   "name": "python3"
  },
  "language_info": {
   "codemirror_mode": {
    "name": "ipython",
    "version": 3
   },
   "file_extension": ".py",
   "mimetype": "text/x-python",
   "name": "python",
   "nbconvert_exporter": "python",
   "pygments_lexer": "ipython3",
   "version": "3.11.7"
  }
 },
 "nbformat": 4,
 "nbformat_minor": 5
}
